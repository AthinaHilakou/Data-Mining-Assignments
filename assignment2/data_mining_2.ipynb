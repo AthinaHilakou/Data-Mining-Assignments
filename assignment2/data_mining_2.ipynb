{
  "cells": [
    {
      "cell_type": "markdown",
      "metadata": {
        "id": "KK3gMDgonFj2"
      },
      "source": [
        "# Part1 annotation"
      ]
    },
    {
      "cell_type": "code",
      "execution_count": 51,
      "metadata": {
        "colab": {
          "base_uri": "https://localhost:8080/"
        },
        "id": "J4xQaY1cpokC",
        "outputId": "d00ff6ad-a208-470b-9830-4e1231825b9c"
      },
      "outputs": [
        {
          "output_type": "stream",
          "name": "stdout",
          "text": [
            "Requirement already satisfied: transformers in /usr/local/lib/python3.10/dist-packages (4.41.1)\n",
            "Requirement already satisfied: filelock in /usr/local/lib/python3.10/dist-packages (from transformers) (3.14.0)\n",
            "Requirement already satisfied: huggingface-hub<1.0,>=0.23.0 in /usr/local/lib/python3.10/dist-packages (from transformers) (0.23.2)\n",
            "Requirement already satisfied: numpy>=1.17 in /usr/local/lib/python3.10/dist-packages (from transformers) (1.25.2)\n",
            "Requirement already satisfied: packaging>=20.0 in /usr/local/lib/python3.10/dist-packages (from transformers) (24.0)\n",
            "Requirement already satisfied: pyyaml>=5.1 in /usr/local/lib/python3.10/dist-packages (from transformers) (6.0.1)\n",
            "Requirement already satisfied: regex!=2019.12.17 in /usr/local/lib/python3.10/dist-packages (from transformers) (2024.5.15)\n",
            "Requirement already satisfied: requests in /usr/local/lib/python3.10/dist-packages (from transformers) (2.31.0)\n",
            "Requirement already satisfied: tokenizers<0.20,>=0.19 in /usr/local/lib/python3.10/dist-packages (from transformers) (0.19.1)\n",
            "Requirement already satisfied: safetensors>=0.4.1 in /usr/local/lib/python3.10/dist-packages (from transformers) (0.4.3)\n",
            "Requirement already satisfied: tqdm>=4.27 in /usr/local/lib/python3.10/dist-packages (from transformers) (4.66.4)\n",
            "Requirement already satisfied: fsspec>=2023.5.0 in /usr/local/lib/python3.10/dist-packages (from huggingface-hub<1.0,>=0.23.0->transformers) (2023.6.0)\n",
            "Requirement already satisfied: typing-extensions>=3.7.4.3 in /usr/local/lib/python3.10/dist-packages (from huggingface-hub<1.0,>=0.23.0->transformers) (4.12.0)\n",
            "Requirement already satisfied: charset-normalizer<4,>=2 in /usr/local/lib/python3.10/dist-packages (from requests->transformers) (3.3.2)\n",
            "Requirement already satisfied: idna<4,>=2.5 in /usr/local/lib/python3.10/dist-packages (from requests->transformers) (3.7)\n",
            "Requirement already satisfied: urllib3<3,>=1.21.1 in /usr/local/lib/python3.10/dist-packages (from requests->transformers) (2.0.7)\n",
            "Requirement already satisfied: certifi>=2017.4.17 in /usr/local/lib/python3.10/dist-packages (from requests->transformers) (2024.2.2)\n"
          ]
        }
      ],
      "source": [
        "!pip install transformers\n",
        "import pandas as pd\n",
        "pd.options.mode.chained_assignment = None  # default='warn'\n",
        "import nltk\n",
        "from nltk.corpus import stopwords\n",
        "from nltk import BigramCollocationFinder\n",
        "from sklearn.feature_extraction.text import TfidfVectorizer\n",
        "from sklearn.metrics.pairwise import cosine_similarity\n",
        "from wordcloud import WordCloud\n",
        "from nltk.tokenize import word_tokenize\n",
        "from nltk.stem.porter import PorterStemmer\n",
        "import pickle\n",
        "import re\n",
        "from transformers import pipeline\n",
        "from sklearn.model_selection import train_test_split\n",
        "import numpy as np\n",
        "import torch\n",
        "import matplotlib.pyplot as plt\n",
        "from sklearn.svm import SVC\n",
        "from sklearn.neighbors import KNeighborsClassifier\n",
        "from sklearn.ensemble import RandomForestClassifier\n",
        "from sklearn.metrics import accuracy_score\n",
        "from sklearn.metrics import classification_report\n",
        "from sklearn.model_selection import cross_val_score, train_test_split"
      ]
    },
    {
      "cell_type": "code",
      "source": [
        "if torch.cuda.is_available():\n",
        "    device = torch.device(\"cuda\")\n",
        "    print('There are %d GPU(s) available.' % torch.cuda.device_count())\n",
        "    print('We will use the GPU:', torch.cuda.get_device_name(0))\n",
        "else:\n",
        "    print('No GPU available, using the CPU instead.')\n",
        "    device = torch.device(\"cpu\")"
      ],
      "metadata": {
        "id": "nygjzSJslCXU",
        "colab": {
          "base_uri": "https://localhost:8080/"
        },
        "outputId": "74536ccb-4338-4de0-ac99-dad3c3149d98"
      },
      "execution_count": 89,
      "outputs": [
        {
          "output_type": "stream",
          "name": "stdout",
          "text": [
            "There are 1 GPU(s) available.\n",
            "We will use the GPU: Tesla T4\n"
          ]
        }
      ]
    },
    {
      "cell_type": "code",
      "execution_count": 2,
      "metadata": {
        "id": "3ZdWFcvnnKBe",
        "colab": {
          "base_uri": "https://localhost:8080/"
        },
        "outputId": "e4c011a0-c384-4c1b-ea5a-5de6e9dd66c6"
      },
      "outputs": [
        {
          "output_type": "stream",
          "name": "stdout",
          "text": [
            "Mounted at /content/gdrive\n"
          ]
        }
      ],
      "source": [
        "from google.colab import drive\n",
        "drive.mount('/content/gdrive')"
      ]
    },
    {
      "cell_type": "code",
      "execution_count": 52,
      "metadata": {
        "id": "SU_WPlOb_8Yi"
      },
      "outputs": [],
      "source": [
        "#Remove Stop Words Function\n",
        "def rem_stopwords(text):\n",
        "    stop_words = set(stopwords.words('english'))\n",
        "    tokens = text.split()\n",
        "    filtered_tokens = [word for word in tokens if word.lower() not in stop_words]\n",
        "    return ' '.join(filtered_tokens)"
      ]
    },
    {
      "cell_type": "code",
      "execution_count": 53,
      "metadata": {
        "id": "HlbAHMZERtB1"
      },
      "outputs": [],
      "source": [
        "stemmer = PorterStemmer()\n",
        "def stemming(text):\n",
        "  tokens = text.split()\n",
        "  ret = []\n",
        "  for token in tokens:\n",
        "    ret.append(stemmer.stem(token))\n",
        "  return ' '.join(ret)\n"
      ]
    },
    {
      "cell_type": "code",
      "source": [
        "positive_words = [\n",
        "    \"amazing\", \"awesome\", \"best\", \"beautiful\", \"brilliant\", \"breathtaking\", \"charming\",\n",
        "    \"delightful\", \"enjoyable\", \"excellent\", \"exceptional\", \"fantastic\", \"friendly\", \"fun\",\n",
        "    \"great\", \"happy\", \"impressive\", \"incredible\", \"love\", \"magnificent\", \"marvelous\",\n",
        "    \"nice\", \"outstanding\", \"perfect\", \"pleasant\", \"pleased\", \"positive\", \"recommend\",\n",
        "    \"satisfied\", \"spectacular\", \"splendid\", \"stunning\", \"superb\", \"terrific\", \"thrilled\",\n",
        "    \"top-notch\", \"unbelievable\", \"wonderful\", \"wonderfully\", \"appreciate\", \"awesome\",\n",
        "    \"celebrate\", \"cheerful\", \"commend\", \"congratulate\", \"creative\", \"delighted\",\n",
        "    \"elegant\", \"enchanting\", \"enjoyed\", \"enthusiastic\", \"fabulous\", \"fantastic\",\n",
        "    \"favorable\", \"friendly\", \"glorious\", \"good\", \"great\", \"happy\", \"harmonious\",\n",
        "    \"hopeful\", \"impressive\", \"inspired\", \"joyful\", \"kind\", \"lovely\", \"loving\",\n",
        "    \"marvelous\", \"motivated\", \"nice\", \"outstanding\", \"perfect\", \"pleasant\",\n",
        "    \"positive\", \"praise\", \"prosperous\", \"remarkable\", \"rewarding\", \"satisfied\",\n",
        "    \"sensational\", \"serene\", \"skillful\", \"spectacular\", \"splendid\", \"successful\",\n",
        "    \"superb\", \"supportive\", \"terrific\", \"thankful\", \"thrilled\", \"tranquil\", \"triumphant\"\n",
        "]\n",
        "\n",
        "negative_words = [\n",
        "    \"awful\", \"bad\", \"boring\", \"disappointing\", \"disappointed\", \"horrible\", \"mediocre\",\n",
        "    \"negative\", \"poor\", \"terrible\", \"unpleasant\", \"worst\", \"annoyed\", \"awful\", \"bad\",\n",
        "    \"bitter\", \"broken\", \"confused\", \"crappy\", \"crappy\", \"cruel\", \"cry\", \"depressed\",\n",
        "    \"difficult\", \"disgusted\", \"distressed\", \"dreadful\", \"dull\", \"embarrassed\", \"envious\",\n",
        "    \"fail\", \"fear\", \"filthy\", \"foolish\", \"frustrated\", \"gloomy\", \"greedy\", \"grim\",\n",
        "    \"hateful\", \"heartbroken\", \"helpless\", \"horrible\", \"hurt\", \"ill\", \"immoral\",\n",
        "    \"insecure\", \"insulting\", \"jealous\", \"lazy\", \"lonely\", \"miserable\", \"nasty\",\n",
        "    \"naughty\", \"nervous\", \"noisy\", \"obnoxious\", \"offended\", \"outraged\", \"painful\",\n",
        "    \"pessimistic\", \"poor\", \"prejudiced\", \"regretful\", \"repulsive\", \"resentful\", \"sad\",\n",
        "    \"scared\", \"selfish\", \"shameful\", \"shocked\", \"sick\", \"sinister\", \"sorrow\", \"stressed\",\n",
        "    \"stupid\", \"terrible\", \"threatened\", \"tired\", \"tragic\", \"ugly\", \"uncomfortable\",\n",
        "    \"unhappy\", \"unpleasant\", \"upset\", \"useless\", \"vicious\", \"violent\", \"vulgar\",\n",
        "    \"weak\", \"wicked\", \"worried\", \"worthless\", \"wretched\", \"wrong\"\n",
        "]\n",
        "\n",
        "neutral_words = [\n",
        "    \"average\", \"common\", \"decent\", \"fair\", \"fine\", \"medium\", \"moderate\", \"ordinary\",\n",
        "    \"passable\", \"regular\", \"satisfactory\", \"standard\", \"typical\", \"unremarkable\", \"usual\",\n",
        "    \"adequate\", \"balanced\", \"basic\", \"commonplace\", \"consistent\", \"customary\",\n",
        "    \"dependable\", \"expected\", \"familiar\", \"general\", \"habitual\", \"mainstream\", \"middle\",\n",
        "    \"middling\", \"moderate\", \"normal\", \"okay\", \"plain\", \"predictable\", \"routine\",\n",
        "    \"run-of-the-mill\", \"steady\", \"traditional\", \"unexceptional\", \"uniform\", \"unspectacular\",\n",
        "    \"workmanlike\", \"acceptable\", \"average\", \"balanced\", \"banal\", \"boring\", \"careful\",\n",
        "    \"cautious\", \"characteristic\", \"collective\", \"commonplace\", \"conformist\", \"conservative\",\n",
        "    \"consistent\", \"constant\", \"customary\", \"dependable\", \"disciplined\", \"dispassionate\",\n",
        "    \"efficient\", \"everyday\", \"habitual\", \"homogeneous\", \"mainstream\", \"methodical\",\n",
        "    \"middle-of-the-road\", \"monotonous\", \"neutral\", \"nonpartisan\", \"obvious\", \"ordained\",\n",
        "    \"orderly\", \"plain\", \"practical\", \"predictable\", \"prescribed\", \"regular\", \"reliable\",\n",
        "    \"repetitive\", \"routine\", \"sensible\", \"serious\", \"settled\", \"staid\", \"steady\",\n",
        "    \"tedious\", \"unbiased\", \"unvarying\", \"usual\"\n",
        "]\n",
        "\n"
      ],
      "metadata": {
        "id": "LQlFkWorvroe"
      },
      "execution_count": 54,
      "outputs": []
    },
    {
      "cell_type": "code",
      "source": [
        "def remove_long_comments(df):\n",
        "    max_seq_length = 512\n",
        "    df = df[df['comments'].str.len() <= max_seq_length]\n",
        "    return df\n"
      ],
      "metadata": {
        "id": "vOoPloU_NNf4"
      },
      "execution_count": 55,
      "outputs": []
    },
    {
      "cell_type": "code",
      "source": [
        "def clean_text(text):\n",
        "    #Remove characters that are not a-z, A-Z, or spaces\n",
        "    cleaned_text = re.sub(r'[^a-zA-Z\\s]', '', text)\n",
        "    #To lowercase\n",
        "    cleaned_text = cleaned_text.lower()\n",
        "    #Replace multiple consecutive spaces with a single space\n",
        "    cleaned_text = re.sub(r'\\s+', ' ', cleaned_text)\n",
        "    #Strip leading and trailing spaces\n",
        "    cleaned_text = cleaned_text.strip()\n",
        "    #Remove Stopwords\n",
        "    cleaned_text = rem_stopwords(cleaned_text)\n",
        "    return cleaned_text if cleaned_text else np.nan"
      ],
      "metadata": {
        "id": "SwfWVGnSxpL1"
      },
      "execution_count": 56,
      "outputs": []
    },
    {
      "cell_type": "code",
      "source": [
        "def classify_text(text):\n",
        "\n",
        "    #word = re.findall(r'\\b\\w+\\b',text)  # Tokenize the text\n",
        "    positive_count = sum(word in text for word in positive_words)\n",
        "    negative_count = sum(word in text for word in negative_words)\n",
        "    neutral_count = sum(word in text for word in neutral_words)\n",
        "\n",
        "    # Determine the category based on the highest count\n",
        "    if (positive_count > negative_count and positive_count > neutral_count):\n",
        "        return 'Positive'\n",
        "    elif (negative_count > positive_count and negative_count > neutral_count):\n",
        "        return 'Negative'\n",
        "    else:\n",
        "        return 'Neutral'\n"
      ],
      "metadata": {
        "id": "iIKL1ZdDvNP4"
      },
      "execution_count": 57,
      "outputs": []
    },
    {
      "cell_type": "markdown",
      "source": [
        "# 2019"
      ],
      "metadata": {
        "id": "4WH5A_FLhib5"
      }
    },
    {
      "cell_type": "markdown",
      "source": [
        "## Pre-processing"
      ],
      "metadata": {
        "id": "DLykSDoWzChe"
      }
    },
    {
      "cell_type": "code",
      "source": [
        "nltk.download('stopwords')\n",
        "path_2019_april = '/content/gdrive/MyDrive/data/2019/april/reviews.csv'\n",
        "path_2019_feb = '/content/gdrive/MyDrive/data/2019/febrouary/reviews.csv'  # Corrected the file name\n",
        "path_2019_mar = '/content/gdrive/MyDrive/data/2019/march/reviews.csv'\n",
        "months = [\"april\", \"february\", \"march\"]\n",
        "csv_paths = [path_2019_april,path_2019_feb,path_2019_mar]\n",
        "csv_files_annotated = [\"annotated_april_2019.csv\",\"annotated_feb_2019.csv\",\"annotated_mar_2019.csv\"]\n",
        "selected_columns = ['id','comments']\n",
        "\n",
        "pd.set_option('display.max_rows', 10)\n",
        "pd.set_option('display.max_columns', None)  # Display all columns\n",
        "pd.set_option('display.width', None)        # Auto-detect the width\n",
        "pd.set_option('display.max_colwidth', None) # Display full column content\n",
        "\n",
        "#Cleaning\n",
        "print(\"Starting Cleaning\")\n",
        "for i, file in enumerate(csv_paths):\n",
        "  df = pd.read_csv(csv_paths[i])\n",
        "\n",
        "  df = df[[col for col in selected_columns if col in df.columns]]\n",
        "\n",
        "  df = df.drop_duplicates(subset='id')\n",
        "  df = df.drop_duplicates(subset='comments')\n",
        "  df['comments'] = df['comments'].astype('str')\n",
        "  df = df[df['comments'].notna()]\n",
        "  df['comments'] = df['comments'].apply(clean_text)\n",
        "  df = df[df['comments'].notna()]\n",
        "  df = remove_long_comments(df)\n",
        "  df = df.reset_index(drop=True)\n",
        "  print(f\"Clean {months[i]} length: {len(df)} \")\n",
        "  df.to_csv(csv_files_annotated[i], index=False)\n",
        "print(\"Cleaning is done\")\n",
        "\n",
        "df = pd.read_csv(csv_files_annotated[0])\n",
        "print(df.head())"
      ],
      "metadata": {
        "colab": {
          "base_uri": "https://localhost:8080/"
        },
        "id": "JJbjmCxnzAke",
        "outputId": "a5a94d7a-ed07-445e-8b53-094207f13169"
      },
      "execution_count": 58,
      "outputs": [
        {
          "output_type": "stream",
          "name": "stderr",
          "text": [
            "[nltk_data] Downloading package stopwords to /root/nltk_data...\n",
            "[nltk_data]   Package stopwords is already up-to-date!\n"
          ]
        },
        {
          "output_type": "stream",
          "name": "stdout",
          "text": [
            "Starting Cleaning\n",
            "Clean april length: 249635 \n",
            "Clean february length: 241758 \n",
            "Clean march length: 243644 \n",
            "Cleaning is done\n",
            "         id  \\\n",
            "0    271535   \n",
            "1   1994237   \n",
            "2   4678609   \n",
            "3  12502994   \n",
            "4  19482948   \n",
            "\n",
            "                                                                                                                                                                                                                                                                                                                                                                                                                                    comments  \n",
            "0                                                                                                                                                                                                                                                                       apartment wonderful fully equiped beautiful decor comfortable verry clean would stay possibly another host properties close metro markets grocery store conveniences  \n",
            "1  emmanouil excellent host provided us everything need make feel right home gave us tips directions destinations even prior trip kept close contact gave us specific easy instructions get place place spacious comfortable everything neat organized always great place come back adventurous day athens transportation easily accessible place located quiet neighborhood stay amazing experience wouldnt hesitate stay recommend friends  \n",
            "2                                                                                                                                                                                                                                                                                                                        manos good host kind helpful apartments spacious clean good location explore city would love stay definitely advise  \n",
            "3                                                stay emmanouil home comfortable quite perfect apartment exactly described listing cabs easy find important sites athens close rooms spacious comfortable us arrived pretty late emmanouil gracious helpful despite late hour instructions get place impeccable even left us maps guidance restaurants try places see stayed night place wish could stayed longer highly recommend apartment  \n",
            "4   fantastic accommodation well located visit athens days longer shops restaurants public transport meters away also president hotel apartment spacious quiet th floor lifts bright clean well decorated throughout modern bathrooms kitchen internet good highly recommend place reasons plus host manos professional helpful kind person always available ground floor office next building assist us day stay thank much manos also kids  \n"
          ]
        }
      ]
    },
    {
      "cell_type": "code",
      "source": [
        "#Manual classification based on lists of words\n",
        "print(\"Starting Manual Classification\")\n",
        "for i, file in enumerate(csv_files_annotated):\n",
        "  df = pd.read_csv(file)\n",
        "  df = df[df['comments'].notna()]\n",
        "  df['sentiment'] = df['comments'].apply(classify_text)\n",
        "  df.to_csv(file, index=False)\n",
        "print(\"Manual Classification is done\")"
      ],
      "metadata": {
        "colab": {
          "base_uri": "https://localhost:8080/"
        },
        "id": "GOxAD9lR7aXk",
        "outputId": "22faaf81-f694-4e49-eae9-7c2e1552e7cb"
      },
      "execution_count": 59,
      "outputs": [
        {
          "output_type": "stream",
          "name": "stdout",
          "text": [
            "Starting Manual Classification\n",
            "Manual Classification is done\n"
          ]
        }
      ]
    },
    {
      "cell_type": "code",
      "source": [
        "#Pick 200 random samples from each of the tree labels, for each month\n",
        "print(\"Sampling\")\n",
        "for i, file in enumerate(csv_files_annotated):\n",
        "  df = pd.read_csv(file)\n",
        "  positive_sample = df[df['sentiment'] == 'Positive'].sample(n=200, random_state=42)\n",
        "  negative_sample = df[df['sentiment'] == 'Negative'].sample(n=200, random_state=42)\n",
        "  neutral_sample = df[df['sentiment'] == 'Neutral'].sample(n=200, random_state=42)\n",
        "  # Combine the samples into one DataFrame\n",
        "  sampled_df = pd.concat([positive_sample, negative_sample, neutral_sample])\n",
        "  # Shuffle the resulting DataFrame\n",
        "  sampled_df = sampled_df.sample(frac=1, random_state=42).reset_index(drop=True)\n",
        "  print(f\"Sampled {months[i]} length: {len(sampled_df)} \")\n",
        "  sampled_df.to_csv(file,index=False)\n"
      ],
      "metadata": {
        "id": "if5t4tY66pWv",
        "colab": {
          "base_uri": "https://localhost:8080/"
        },
        "outputId": "d7ed574f-b5af-400d-9e04-f8f2de1a6f60"
      },
      "execution_count": 60,
      "outputs": [
        {
          "output_type": "stream",
          "name": "stdout",
          "text": [
            "Sampling\n",
            "Sampled april length: 600 \n",
            "Sampled february length: 600 \n",
            "Sampled march length: 600 \n"
          ]
        }
      ]
    },
    {
      "cell_type": "code",
      "source": [
        "#Drop the category column and annotate the samples using Roberta\n",
        "print(\"Roberta Annotation Starting\")\n",
        "\n",
        "for i, file in enumerate(csv_files_annotated):\n",
        "  df = pd.read_csv(file)\n",
        "  df = df.drop('sentiment', axis=1)\n",
        "  to_list = df['comments'].tolist()\n",
        "  classifier = pipeline(\"text-classification\", model=\"j-hartmann/sentiment-roberta-large-english-3-classes\")\n",
        "  results = classifier(to_list)\n",
        "  sentiments = [(lambda res: res['label'])(res) for res in results]\n",
        "  df['sentiment'] = sentiments\n",
        "  df.to_csv(file, index=False)\n",
        "print(\"Finished\")"
      ],
      "metadata": {
        "id": "LgXgYmFX6pJQ",
        "colab": {
          "base_uri": "https://localhost:8080/",
          "height": 530,
          "referenced_widgets": [
            "b82071384ebc41c8a5c615f141ca3172",
            "a623804350d942059f3d71cf7c5f95a9",
            "efb7b54e12904fe182d8a36cf22784bf",
            "4d4c5ddf98b34174a716fc46002d61f2",
            "4819f1c3664d4e2ebdc2dc5c21ec0275",
            "e939e69f6a8f47818335038b4122cdc5",
            "a08d95ce70f24a60ad7069a0e892e3b5",
            "e4d02cdc6c3c4c1aa7f283242991fbb9",
            "edfd4245b3014da49132c6d699d038ca",
            "90eef77eadaa4e58a179df44031c3c48",
            "503fbb7fcc31451181fe33bfba0164d3",
            "067a1d4abb0e4ae0a98937f72fe0fe96",
            "dcb2af6f6b93436985024cb7a050a0a9",
            "58f9664567744b94b10b1ab7cf875e46",
            "0c6438c4498644608dc4317051f26652",
            "e37d03ba84fe4819a020a41afc1213d3",
            "b4754f8c849b4a6e80840a3d45660d4e",
            "4bbd8361666e42a98978b09836c9f029",
            "18feed411a3444a29fe8662048f9b5d9",
            "027dd742dd3d4940842bf5618fe9122e",
            "e7ec171d59454b9091cab9c8fd9e398b",
            "814774a72b07415abc2423a1d33a7e58",
            "e3d89d788dd54a0b8490cb4804d579a9",
            "4fd4aa00787645e29e442b477953770d",
            "3ffb13aabe2a4ca791022121264e5959",
            "521b5bd161724d72a3e86fbcc4b27479",
            "1092ab7fb15448a1be46c83e0978f8ea",
            "a21e4b9aeeb74cebb1053798767bfe30",
            "bcdd8943e3fc45cc84bae2a6980b1f3b",
            "897a07799c3143d4b76c1a4225a47393",
            "20ff5af3b86f4bd597840253a541083a",
            "ca69086303354c6789426e431cab4b2d",
            "99f4ffda8e294064b74804bf78e9e166",
            "6654640dcd644aae84cf6d08db8452d0",
            "a0cfe6b0ccfe4fa68fc0e70e05d41fd8",
            "c61e73cc33de49b4804e03c01c0fd1ed",
            "6c2768852a2145a7a5f62bb1ec7778f9",
            "4acc04b90c1844a59336dc2c2b161a7e",
            "8c3941d36bc546a0946dab7440207dc5",
            "0a7dc65239164e4f9d1d3b87d948c124",
            "85974d7530cf4a78bd201ecb2fdbb1ad",
            "d4b6448d64dd4771bd3c02a34eeacd12",
            "dba93e8d063a471fb65488c401c3b06b",
            "27a2351da7f14758a601decc0e81c0c4",
            "94be5cbbb0db446f817fb560008e733e",
            "4054d389ed0a4cde81620d384bb7faa9",
            "2978ca418ed341fe94fe1249bfb626d4",
            "fc4c390ac6af47c88bb3ba12135d89e0",
            "186e1c554a624c658fa96ec4a438dedc",
            "209897f1346b42348c143b68570f6b6f",
            "6e990eff40e14a6e8b39d6780cf10e56",
            "e321d0a9457f4e89b33bba56860a0fd3",
            "98d2afb12746416e90df9f1d9835fbc1",
            "68766aa74f24474ea80b99af32404fd3",
            "65ec46ef510f4836ae52adff92ef351f",
            "fc94f5a9a9bd4653bae7f1fc41722a16",
            "e073c66eee3e4d378cea7bef068eb090",
            "2af3347a4d644379a0dbc8298c1d6b72",
            "edf6cd0c3fac4ac4ae3df0f2f509f168",
            "0d0068e9113a41638ffb6a7c48310d50",
            "8961b9d38d2a4e6fb1dc709d716cb167",
            "c57ca00fb8244d079bb8170120a6a4fd",
            "398fbe4e5a6b4f139724355808b86bd4",
            "acb166786da547ec94f1b7cb4123a616",
            "fe8b6aa745e54667816e26e385b3fce4",
            "e80295d99b0c42d1ba9a4a7365304a46"
          ]
        },
        "outputId": "bb89a725-0744-4dc3-f828-e57ad2b4d864"
      },
      "execution_count": 61,
      "outputs": [
        {
          "output_type": "stream",
          "name": "stdout",
          "text": [
            "Roberta Annotation Starting\n"
          ]
        },
        {
          "output_type": "stream",
          "name": "stderr",
          "text": [
            "/usr/local/lib/python3.10/dist-packages/huggingface_hub/utils/_token.py:89: UserWarning: \n",
            "The secret `HF_TOKEN` does not exist in your Colab secrets.\n",
            "To authenticate with the Hugging Face Hub, create a token in your settings tab (https://huggingface.co/settings/tokens), set it as secret in your Google Colab and restart your session.\n",
            "You will be able to reuse this secret in all of your notebooks.\n",
            "Please note that authentication is recommended but still optional to access public models or datasets.\n",
            "  warnings.warn(\n"
          ]
        },
        {
          "output_type": "display_data",
          "data": {
            "text/plain": [
              "config.json:   0%|          | 0.00/725 [00:00<?, ?B/s]"
            ],
            "application/vnd.jupyter.widget-view+json": {
              "version_major": 2,
              "version_minor": 0,
              "model_id": "b82071384ebc41c8a5c615f141ca3172"
            }
          },
          "metadata": {}
        },
        {
          "output_type": "display_data",
          "data": {
            "text/plain": [
              "pytorch_model.bin:   0%|          | 0.00/1.43G [00:00<?, ?B/s]"
            ],
            "application/vnd.jupyter.widget-view+json": {
              "version_major": 2,
              "version_minor": 0,
              "model_id": "067a1d4abb0e4ae0a98937f72fe0fe96"
            }
          },
          "metadata": {}
        },
        {
          "output_type": "stream",
          "name": "stderr",
          "text": [
            "Some weights of the model checkpoint at j-hartmann/sentiment-roberta-large-english-3-classes were not used when initializing RobertaForSequenceClassification: ['roberta.pooler.dense.bias', 'roberta.pooler.dense.weight']\n",
            "- This IS expected if you are initializing RobertaForSequenceClassification from the checkpoint of a model trained on another task or with another architecture (e.g. initializing a BertForSequenceClassification model from a BertForPreTraining model).\n",
            "- This IS NOT expected if you are initializing RobertaForSequenceClassification from the checkpoint of a model that you expect to be exactly identical (initializing a BertForSequenceClassification model from a BertForSequenceClassification model).\n"
          ]
        },
        {
          "output_type": "display_data",
          "data": {
            "text/plain": [
              "tokenizer_config.json:   0%|          | 0.00/1.07k [00:00<?, ?B/s]"
            ],
            "application/vnd.jupyter.widget-view+json": {
              "version_major": 2,
              "version_minor": 0,
              "model_id": "e3d89d788dd54a0b8490cb4804d579a9"
            }
          },
          "metadata": {}
        },
        {
          "output_type": "display_data",
          "data": {
            "text/plain": [
              "vocab.json:   0%|          | 0.00/899k [00:00<?, ?B/s]"
            ],
            "application/vnd.jupyter.widget-view+json": {
              "version_major": 2,
              "version_minor": 0,
              "model_id": "6654640dcd644aae84cf6d08db8452d0"
            }
          },
          "metadata": {}
        },
        {
          "output_type": "display_data",
          "data": {
            "text/plain": [
              "merges.txt:   0%|          | 0.00/456k [00:00<?, ?B/s]"
            ],
            "application/vnd.jupyter.widget-view+json": {
              "version_major": 2,
              "version_minor": 0,
              "model_id": "94be5cbbb0db446f817fb560008e733e"
            }
          },
          "metadata": {}
        },
        {
          "output_type": "display_data",
          "data": {
            "text/plain": [
              "special_tokens_map.json:   0%|          | 0.00/772 [00:00<?, ?B/s]"
            ],
            "application/vnd.jupyter.widget-view+json": {
              "version_major": 2,
              "version_minor": 0,
              "model_id": "fc94f5a9a9bd4653bae7f1fc41722a16"
            }
          },
          "metadata": {}
        },
        {
          "output_type": "stream",
          "name": "stderr",
          "text": [
            "Some weights of the model checkpoint at j-hartmann/sentiment-roberta-large-english-3-classes were not used when initializing RobertaForSequenceClassification: ['roberta.pooler.dense.bias', 'roberta.pooler.dense.weight']\n",
            "- This IS expected if you are initializing RobertaForSequenceClassification from the checkpoint of a model trained on another task or with another architecture (e.g. initializing a BertForSequenceClassification model from a BertForPreTraining model).\n",
            "- This IS NOT expected if you are initializing RobertaForSequenceClassification from the checkpoint of a model that you expect to be exactly identical (initializing a BertForSequenceClassification model from a BertForSequenceClassification model).\n",
            "Some weights of the model checkpoint at j-hartmann/sentiment-roberta-large-english-3-classes were not used when initializing RobertaForSequenceClassification: ['roberta.pooler.dense.bias', 'roberta.pooler.dense.weight']\n",
            "- This IS expected if you are initializing RobertaForSequenceClassification from the checkpoint of a model trained on another task or with another architecture (e.g. initializing a BertForSequenceClassification model from a BertForPreTraining model).\n",
            "- This IS NOT expected if you are initializing RobertaForSequenceClassification from the checkpoint of a model that you expect to be exactly identical (initializing a BertForSequenceClassification model from a BertForSequenceClassification model).\n"
          ]
        },
        {
          "output_type": "stream",
          "name": "stdout",
          "text": [
            "Finished\n"
          ]
        }
      ]
    },
    {
      "cell_type": "markdown",
      "source": [
        "# 2023"
      ],
      "metadata": {
        "id": "XxSDJpJViOxv"
      }
    },
    {
      "cell_type": "markdown",
      "source": [
        "## Pre-Processing"
      ],
      "metadata": {
        "id": "KVOyYT3LjCbZ"
      }
    },
    {
      "cell_type": "code",
      "source": [
        "nltk.download('stopwords')\n",
        "path_2023_june = '/content/gdrive/MyDrive/data/2023/june/reviews.csv'\n",
        "path_2023_march = '/content/gdrive/MyDrive/data/2023/march/reviews.csv'  # Corrected the file name\n",
        "path_2023_september = '/content/gdrive/MyDrive/data/2023/september/reviews.csv'\n",
        "months = [\"june\", \"march\", \"september\"]\n",
        "csv_paths = [path_2023_june , path_2023_march, path_2023_september]\n",
        "csv_files_annotated = [\"annotated_june_2023.csv\",\"annotated_march_2023.csv\",\"annotated_september_2023.csv\"]\n",
        "selected_columns = ['id','comments']\n",
        "\n",
        "pd.set_option('display.max_rows', 10)\n",
        "pd.set_option('display.max_columns', None)  # Display all columns\n",
        "pd.set_option('display.width', None)        # Auto-detect the width\n",
        "pd.set_option('display.max_colwidth', None) # Display full column content\n",
        "\n",
        "#Cleaning\n",
        "print(\"Starting Cleaning\")\n",
        "for i, file in enumerate(csv_paths):\n",
        "  df = pd.read_csv(csv_paths[i])\n",
        "  df = df[[col for col in selected_columns if col in df.columns]]\n",
        "  df = df.drop_duplicates(subset='id')\n",
        "  df = df.drop_duplicates(subset='comments')\n",
        "  df['comments'] = df['comments'].astype('str')\n",
        "  df = df[df['comments'].notna()]\n",
        "  df['comments'] = df['comments'].apply(clean_text)\n",
        "  df = df[df['comments'].notna()]\n",
        "  df = remove_long_comments(df)\n",
        "  df = df.reset_index(drop=True)\n",
        "  print(f\"Clean {months[i]} length: {len(df)} \")\n",
        "  df.to_csv(csv_files_annotated[i], index=False)\n",
        "print(\"Cleaning is done\")\n",
        "\n",
        "df = pd.read_csv(csv_files_annotated[0])\n",
        "print(df.head())"
      ],
      "metadata": {
        "colab": {
          "base_uri": "https://localhost:8080/"
        },
        "id": "Ap7-mPuhiOC4",
        "outputId": "977ca4aa-a5a9-47e6-f2f8-5389960f43e9"
      },
      "execution_count": 62,
      "outputs": [
        {
          "output_type": "stream",
          "name": "stdout",
          "text": [
            "Starting Cleaning\n"
          ]
        },
        {
          "output_type": "stream",
          "name": "stderr",
          "text": [
            "[nltk_data] Downloading package stopwords to /root/nltk_data...\n",
            "[nltk_data]   Package stopwords is already up-to-date!\n"
          ]
        },
        {
          "output_type": "stream",
          "name": "stdout",
          "text": [
            "Clean june length: 488368 \n",
            "Clean march length: 452554 \n",
            "Clean september length: 488368 \n",
            "Cleaning is done\n",
            "         id  \\\n",
            "0    271535   \n",
            "1   1994237   \n",
            "2  12184199   \n",
            "3  13197921   \n",
            "4  13393565   \n",
            "\n",
            "                                                                                                                                                                                                                                                                                                                                                                                                                                    comments  \n",
            "0                                                                                                                                                                                                                                                                       apartment wonderful fully equiped beautiful decor comfortable verry clean would stay possibly another host properties close metro markets grocery store conveniences  \n",
            "1  emmanouil excellent host provided us everything need make feel right home gave us tips directions destinations even prior trip kept close contact gave us specific easy instructions get place place spacious comfortable everything neat organized always great place come back adventurous day athens transportation easily accessible place located quiet neighborhood stay amazing experience wouldnt hesitate stay recommend friends  \n",
            "2                                                                                                                                                                                 wife daughter spent five days beauty light colors athens also thanks home soula apartment enjoyed space indoor outdoor furniture paintings mosaics know soula person known loved taste generous hospitality therefore highly recommend apartment hope back  \n",
            "3                                                                                                    great stay soulas apartment loved decoration furniture paintings mosaics amd relaxing terrace apartment good energy makes relax clean also close metro station taxi stop soula accessible ever needed anything responded immediately although dont know soula person like generous hospitalityi highly recommend staying hope visit day  \n",
            "4                                                                                                                                                                    beautiful clean apartment plenty space stayed partner lovely time even though booked last minute like pm day arrived midnight soula incredibly kind arranged driver waiting pick us fully stocked cookware incredibly comfy sofa nice quiet evening perfect thank soula  \n"
          ]
        }
      ]
    },
    {
      "cell_type": "code",
      "source": [
        "#Manual classification based on lists of words\n",
        "print(\"Starting Manual Classification\")\n",
        "for i, file in enumerate(csv_files_annotated):\n",
        "  df = pd.read_csv(file)\n",
        "  df = df[df['comments'].notna()]\n",
        "  df['sentiment'] = df['comments'].apply(classify_text)\n",
        "  df.to_csv(file, index=False)\n",
        "print(\"Manual Classification is done\")"
      ],
      "metadata": {
        "colab": {
          "base_uri": "https://localhost:8080/"
        },
        "id": "sT5aRDP2iW5b",
        "outputId": "32ad2695-91a7-4995-b12b-cdb05e13db0c"
      },
      "execution_count": 63,
      "outputs": [
        {
          "output_type": "stream",
          "name": "stdout",
          "text": [
            "Starting Manual Classification\n",
            "Manual Classification is done\n"
          ]
        }
      ]
    },
    {
      "cell_type": "code",
      "source": [
        "#Pick 200 random samples from each of the tree labels, for each month\n",
        "print(\"Sampling\")\n",
        "for i, file in enumerate(csv_files_annotated):\n",
        "  df = pd.read_csv(file)\n",
        "  positive_sample = df[df['sentiment'] == 'Positive'].sample(n=200, random_state=42)\n",
        "  negative_sample = df[df['sentiment'] == 'Negative'].sample(n=200, random_state=42)\n",
        "  neutral_sample = df[df['sentiment'] == 'Neutral'].sample(n=200, random_state=42)\n",
        "  # Combine the samples into one DataFrame\n",
        "  sampled_df = pd.concat([positive_sample, negative_sample, neutral_sample])\n",
        "  # Shuffle the resulting DataFrame\n",
        "  sampled_df = sampled_df.sample(frac=1, random_state=42).reset_index(drop=True)\n",
        "  print(f\"Sampled {months[i]} length: {len(sampled_df)} \")\n",
        "  sampled_df.to_csv(file, index=False)\n"
      ],
      "metadata": {
        "colab": {
          "base_uri": "https://localhost:8080/"
        },
        "id": "Le4fW4dUiZ2e",
        "outputId": "fccf03ff-ec81-40e8-e5db-48f44b747c6f"
      },
      "execution_count": 64,
      "outputs": [
        {
          "output_type": "stream",
          "name": "stdout",
          "text": [
            "Sampling\n",
            "Sampled june length: 600 \n",
            "Sampled march length: 600 \n",
            "Sampled september length: 600 \n"
          ]
        }
      ]
    },
    {
      "cell_type": "code",
      "source": [
        "#Drop the category column and annotate the samples using Roberta\n",
        "print(\"Roberta Annotation Starting\")\n",
        "\n",
        "for i, file in enumerate(csv_files_annotated):\n",
        "  df = pd.read_csv(file)\n",
        "  df = df.drop('sentiment', axis=1)\n",
        "  to_list = df['comments'].tolist()\n",
        "  classifier = pipeline(\"text-classification\", model=\"j-hartmann/sentiment-roberta-large-english-3-classes\")\n",
        "  results = classifier(to_list)\n",
        "  sentiments = [(lambda res: res['label'])(res) for res in results]\n",
        "  df['sentiment'] = sentiments\n",
        "  df.to_csv(file, index=False)\n",
        "print(\"Finished\")"
      ],
      "metadata": {
        "id": "PQU2RX9Iidcl",
        "colab": {
          "base_uri": "https://localhost:8080/"
        },
        "outputId": "f31a89b6-acc4-4b64-c9ab-db9b72e18d86"
      },
      "execution_count": 65,
      "outputs": [
        {
          "output_type": "stream",
          "name": "stdout",
          "text": [
            "Roberta Annotation Starting\n"
          ]
        },
        {
          "output_type": "stream",
          "name": "stderr",
          "text": [
            "Some weights of the model checkpoint at j-hartmann/sentiment-roberta-large-english-3-classes were not used when initializing RobertaForSequenceClassification: ['roberta.pooler.dense.bias', 'roberta.pooler.dense.weight']\n",
            "- This IS expected if you are initializing RobertaForSequenceClassification from the checkpoint of a model trained on another task or with another architecture (e.g. initializing a BertForSequenceClassification model from a BertForPreTraining model).\n",
            "- This IS NOT expected if you are initializing RobertaForSequenceClassification from the checkpoint of a model that you expect to be exactly identical (initializing a BertForSequenceClassification model from a BertForSequenceClassification model).\n",
            "Some weights of the model checkpoint at j-hartmann/sentiment-roberta-large-english-3-classes were not used when initializing RobertaForSequenceClassification: ['roberta.pooler.dense.bias', 'roberta.pooler.dense.weight']\n",
            "- This IS expected if you are initializing RobertaForSequenceClassification from the checkpoint of a model trained on another task or with another architecture (e.g. initializing a BertForSequenceClassification model from a BertForPreTraining model).\n",
            "- This IS NOT expected if you are initializing RobertaForSequenceClassification from the checkpoint of a model that you expect to be exactly identical (initializing a BertForSequenceClassification model from a BertForSequenceClassification model).\n",
            "Some weights of the model checkpoint at j-hartmann/sentiment-roberta-large-english-3-classes were not used when initializing RobertaForSequenceClassification: ['roberta.pooler.dense.bias', 'roberta.pooler.dense.weight']\n",
            "- This IS expected if you are initializing RobertaForSequenceClassification from the checkpoint of a model trained on another task or with another architecture (e.g. initializing a BertForSequenceClassification model from a BertForPreTraining model).\n",
            "- This IS NOT expected if you are initializing RobertaForSequenceClassification from the checkpoint of a model that you expect to be exactly identical (initializing a BertForSequenceClassification model from a BertForSequenceClassification model).\n"
          ]
        },
        {
          "output_type": "stream",
          "name": "stdout",
          "text": [
            "Finished\n"
          ]
        }
      ]
    },
    {
      "cell_type": "markdown",
      "source": [
        "## Histograms"
      ],
      "metadata": {
        "id": "ByHxOwhsjHl3"
      }
    },
    {
      "cell_type": "code",
      "source": [
        "#Concatenation by year\n",
        "april_2019 = pd.read_csv('/content/annotated_april_2019.csv')\n",
        "feb_2019 = pd.read_csv('/content/annotated_feb_2019.csv')\n",
        "mar_2019 = pd.read_csv('/content/annotated_mar_2019.csv')\n",
        "train_2019 = pd.concat([april_2019, feb_2019, mar_2019], axis=0)\n",
        "train_2019.reset_index(drop=True, inplace=True)\n",
        "train_2019.to_csv('train_2019.csv', index=False)\n",
        "\n",
        "\n",
        "june_2023 = pd.read_csv('/content/annotated_june_2023.csv')\n",
        "march_2023 = pd.read_csv('/content/annotated_march_2023.csv')\n",
        "september_2023 = pd.read_csv('/content/annotated_september_2023.csv')\n",
        "train_2023 = pd.concat([june_2023, march_2023, september_2023], axis=0)\n",
        "train_2023.reset_index(drop=True, inplace=True)\n",
        "train_2023.to_csv('train_2023.csv', index=False)"
      ],
      "metadata": {
        "id": "zUPF3rOnrSSw"
      },
      "execution_count": 66,
      "outputs": []
    },
    {
      "cell_type": "code",
      "source": [
        "pd.set_option('display.max_rows', None)\n",
        "pd.set_option('display.max_columns', None)\n",
        "# Plot the histogram\n",
        "\n",
        "#Entries per neighbourhood 2019\n",
        "counts1 = train_2019['sentiment'].value_counts()\n",
        "\n",
        "#Entries per neighbourhood 2023\n",
        "counts2 = train_2023['sentiment'].value_counts()\n",
        "\n",
        "# Create a figure with two subplots arranged horizontally\n",
        "fig, axs = plt.subplots(2, 1, figsize=(15, 10))\n",
        "\n",
        "\n",
        "counts1.plot(kind='bar', ax=axs[0])\n",
        "axs[0].set_xlabel('Sentiment')\n",
        "axs[0].set_ylabel('Num entries')\n",
        "axs[0].set_title('Sentiment for 2019')\n",
        "\n",
        "counts2.plot(kind='bar', ax=axs[1])\n",
        "axs[1].set_xlabel('Sentiment')\n",
        "axs[1].set_ylabel('Num entries')\n",
        "axs[1].set_title('Sentiment for 2023')\n",
        "\n",
        "\n",
        "# Adjust layout to prevent overlapping\n",
        "plt.tight_layout()\n",
        "\n",
        "# Show the plots\n",
        "plt.show()"
      ],
      "metadata": {
        "id": "ogpILrffkBMA",
        "colab": {
          "base_uri": "https://localhost:8080/",
          "height": 1000
        },
        "outputId": "6ea9d1ce-0c5d-4734-f0cf-1987231831df"
      },
      "execution_count": 67,
      "outputs": [
        {
          "output_type": "display_data",
          "data": {
            "text/plain": [
              "<Figure size 1500x1000 with 2 Axes>"
            ],
            "image/png": "[encoded data removed]"
          },
          "metadata": {}
        }
      ]
    },
    {
      "cell_type": "markdown",
      "source": [
        "# Part 2"
      ],
      "metadata": {
        "id": "uYjd6WpEjLJs"
      }
    },
    {
      "cell_type": "code",
      "source": [
        "import pickle\n",
        "from sklearn.model_selection import train_test_split\n",
        "from sklearn.feature_extraction.text import TfidfVectorizer\n",
        "from gensim.models import Word2Vec\n",
        "from sklearn.neighbors import KNeighborsClassifier\n",
        "from sklearn.ensemble import RandomForestClassifier\n",
        "from sklearn.metrics import classification_report\n",
        "from nltk.tokenize import word_tokenize\n",
        "from sklearn.svm import SVC\n",
        "import nltk\n",
        "nltk.download('punkt')\n",
        "from numpy import dot\n",
        "from numpy.linalg import norm\n"
      ],
      "metadata": {
        "id": "UI_RXXz5vrqP",
        "colab": {
          "base_uri": "https://localhost:8080/"
        },
        "outputId": "087366df-7f0f-4f17-b2a4-88bdc81bfe68"
      },
      "execution_count": 70,
      "outputs": [
        {
          "output_type": "stream",
          "name": "stderr",
          "text": [
            "[nltk_data] Downloading package punkt to /root/nltk_data...\n",
            "[nltk_data]   Package punkt is already up-to-date!\n"
          ]
        }
      ]
    },
    {
      "cell_type": "code",
      "source": [
        "path = '/content/train_2023.csv'"
      ],
      "metadata": {
        "id": "-SaHL7hcSPTT"
      },
      "execution_count": 68,
      "outputs": []
    },
    {
      "cell_type": "code",
      "source": [
        "path = '/content/train_2019.csv'"
      ],
      "metadata": {
        "id": "lxiPzPtmSgYr"
      },
      "execution_count": 69,
      "outputs": []
    },
    {
      "cell_type": "code",
      "source": [
        "#Function to create a word2vec model for our dataset\n",
        "def create_word2vec_model(corpus):\n",
        "    data = []\n",
        "    for (i, comment) in enumerate(corpus['comments'].values):\n",
        "        tokenized_text = []\n",
        "        for word in word_tokenize(comment):\n",
        "            tokenized_text.append(word)\n",
        "        data.append(tokenized_text)\n",
        "    model = Word2Vec(data, min_count = 1, vector_size = 100, window = 5, sg = 1) #Create a word2vec model using skip grams\n",
        "    name = \"word2vec.pickle\"\n",
        "    with open(name, 'wb') as f:\n",
        "        pickle.dump(model, f)\n",
        "    return name\n",
        "#test prints\n",
        "train_model = pd.read_csv(path)\n",
        "model_name = create_word2vec_model(train_model)\n",
        "\n",
        "with open(model_name, 'rb') as handle:\n",
        "  model = pickle.load(handle)\n",
        "vector = model.wv\n",
        "print(vector['friendly'])\n",
        "sims = model.wv.most_similar('friendly', topn=10)  # get other similar words\n",
        "print(sims)"
      ],
      "metadata": {
        "id": "zQd5ENjv7-f5",
        "colab": {
          "base_uri": "https://localhost:8080/"
        },
        "outputId": "82957a85-2510-4f95-cd63-2b0040df8cb4"
      },
      "execution_count": 71,
      "outputs": [
        {
          "output_type": "stream",
          "name": "stdout",
          "text": [
            "[-0.1529715  -0.1714749  -0.09071559 -0.21070436 -0.07963217 -0.386563\n",
            "  0.21331708  0.83602846 -0.18935113 -0.2821215   0.13458973 -0.21651483\n",
            " -0.2187579   0.23879611 -0.20055139 -0.11625499  0.01701817 -0.36478534\n",
            "  0.20532855 -0.4870936   0.10024755  0.21061927  0.1697456   0.40894303\n",
            "  0.11513955  0.01973326 -0.14191182 -0.12002063 -0.26810828 -0.31889638\n",
            "  0.19901986  0.43097213  0.13094865 -0.29180408 -0.13892534  0.18407132\n",
            " -0.07413446 -0.53338724 -0.39602178 -0.48999703  0.01337927 -0.06661477\n",
            " -0.17602958 -0.10729538  0.27534625 -0.26935348 -0.30301496  0.02747004\n",
            "  0.11662741 -0.01785946 -0.24225667 -0.57300717 -0.24380556 -0.16672795\n",
            " -0.03987391 -0.0635833   0.08239433 -0.15780702  0.04597731  0.22817676\n",
            " -0.31269175  0.22445384 -0.03545289 -0.18066163 -0.6435592   0.32892033\n",
            "  0.5543483   0.38515624 -0.28973386  0.24559145 -0.22615246  0.22751161\n",
            "  0.03399247 -0.17727385  0.40842867  0.02957949  0.33438557 -0.3132001\n",
            " -0.31912038  0.02579666 -0.30120847  0.00516078 -0.25229603  0.43632916\n",
            " -0.05377356 -0.20561895  0.21594262  0.31090122 -0.01685429  0.26483235\n",
            "  0.47059917  0.38596097  0.251343    0.23577319  0.21557708  0.3946457\n",
            "  0.76948106 -0.38702008  0.14087361  0.16190855]\n",
            "[('help', 0.9987989068031311), ('kind', 0.9987534284591675), ('extremely', 0.9987140893936157), ('hosts', 0.9986928105354309), ('always', 0.9985802173614502), ('felt', 0.9985117316246033), ('available', 0.9985061287879944), ('went', 0.9984930157661438), ('accommodating', 0.9984089136123657), ('responsive', 0.998394250869751)]\n"
          ]
        }
      ]
    },
    {
      "cell_type": "code",
      "source": [
        "#Function to vectorize the data for our model\n",
        "def vectorize(df):\n",
        "    X = []\n",
        "    Y = []\n",
        "    # Sentiments mapped to numbers\n",
        "    df['Sentiment_Num'] = df.sentiment.map({\n",
        "    'positive':0,\n",
        "    'neutral':1,\n",
        "    'negative':2\n",
        "\n",
        "    })\n",
        "\n",
        "    sentiment = list(df['Sentiment_Num'])\n",
        "    model_name = create_word2vec_model(df)\n",
        "    with open(model_name, 'rb') as handle:\n",
        "        model = pickle.load(handle)\n",
        "    for (i, comment) in enumerate(df['comments'].values):\n",
        "        featureVec = np.zeros(100,dtype=\"float32\")\n",
        "        nwords = 0\n",
        "        #Converting Index2Word which is a list to a set for better speed in the execution.\n",
        "        index2word_set = set(model.wv.index_to_key)\n",
        "        for word in word_tokenize(comment):\n",
        "            if word in index2word_set:\n",
        "                nwords = nwords + 1\n",
        "                featureVec = np.add(featureVec,model.wv[word])\n",
        "        # Dividing the result by number of words to get average\n",
        "        if(nwords > 0):\n",
        "            featureVec = np.divide(featureVec, nwords)\n",
        "        X.append(featureVec) #we keep the mean\n",
        "        Y.append(sentiment[i])\n",
        "    return(X,Y)\n",
        "\n",
        "#Loading processed data and vectorization\n",
        "\n",
        "stemmed = pd.read_csv(path)\n",
        "(X,Y) = vectorize(stemmed)\n",
        "print(\"Done\")"
      ],
      "metadata": {
        "id": "lOTri_4_8Qjj",
        "colab": {
          "base_uri": "https://localhost:8080/"
        },
        "outputId": "1124e4a5-3344-4e9b-e50d-d582c21d39b5"
      },
      "execution_count": 72,
      "outputs": [
        {
          "output_type": "stream",
          "name": "stdout",
          "text": [
            "Done\n"
          ]
        }
      ]
    },
    {
      "cell_type": "code",
      "source": [
        "device = torch.device('cuda' if torch.cuda.is_available() else 'cpu')\n",
        "Xtrain, Xtest , Ytrain, Ytest = train_test_split(X, Y, test_size=0.2, random_state=69)"
      ],
      "metadata": {
        "id": "uO0pi1I3vIvQ"
      },
      "execution_count": 73,
      "outputs": []
    },
    {
      "cell_type": "code",
      "source": [
        "vm_classifier = SVC(kernel='linear')  # Linear kernel\n",
        "cv_scores = cross_val_score(vm_classifier, Xtrain, Ytrain, cv=10)\n",
        "vm_classifier.fit(Xtrain, Ytrain)\n",
        "Ypred = vm_classifier.predict(Xtest)\n",
        "print(classification_report(Ytest,Ypred, target_names=['positive', 'neutral', 'negative']))\n",
        "\n",
        "\n",
        "# Random Forests\n",
        "rf_classifier = RandomForestClassifier(n_estimators=100, random_state=42)\n",
        "cv_scores = cross_val_score(rf_classifier, Xtrain, Ytrain, cv=10)\n",
        "rf_classifier.fit(Xtrain, Ytrain)\n",
        "Ypred = rf_classifier.predict(Xtest)\n",
        "print(classification_report(Ytest,Ypred, target_names=['positive', 'neutral', 'negative']))\n",
        "\n",
        "\n",
        "# KNN\n",
        "knn_classifier = KNeighborsClassifier(n_neighbors=5)\n",
        "cv_scores = cross_val_score(knn_classifier, Xtrain, Ytrain, cv=10)\n",
        "knn_classifier.fit(Xtrain, Ytrain)\n",
        "Ypred = knn_classifier.predict(Xtest)\n",
        "print(classification_report(Ytest,Ypred, target_names=['positive', 'neutral', 'negative']))"
      ],
      "metadata": {
        "colab": {
          "base_uri": "https://localhost:8080/"
        },
        "id": "e_9UgynavLmg",
        "outputId": "4dbb53e5-f01d-43a9-fc51-fb1d59c632a3"
      },
      "execution_count": 74,
      "outputs": [
        {
          "output_type": "stream",
          "name": "stderr",
          "text": [
            "/usr/local/lib/python3.10/dist-packages/sklearn/metrics/_classification.py:1344: UndefinedMetricWarning: Precision and F-score are ill-defined and being set to 0.0 in labels with no predicted samples. Use `zero_division` parameter to control this behavior.\n",
            "  _warn_prf(average, modifier, msg_start, len(result))\n",
            "/usr/local/lib/python3.10/dist-packages/sklearn/metrics/_classification.py:1344: UndefinedMetricWarning: Precision and F-score are ill-defined and being set to 0.0 in labels with no predicted samples. Use `zero_division` parameter to control this behavior.\n",
            "  _warn_prf(average, modifier, msg_start, len(result))\n",
            "/usr/local/lib/python3.10/dist-packages/sklearn/metrics/_classification.py:1344: UndefinedMetricWarning: Precision and F-score are ill-defined and being set to 0.0 in labels with no predicted samples. Use `zero_division` parameter to control this behavior.\n",
            "  _warn_prf(average, modifier, msg_start, len(result))\n"
          ]
        },
        {
          "output_type": "stream",
          "name": "stdout",
          "text": [
            "              precision    recall  f1-score   support\n",
            "\n",
            "    positive       0.77      0.84      0.80       156\n",
            "     neutral       0.86      0.85      0.85       192\n",
            "    negative       0.00      0.00      0.00        12\n",
            "\n",
            "    accuracy                           0.82       360\n",
            "   macro avg       0.54      0.56      0.55       360\n",
            "weighted avg       0.79      0.82      0.80       360\n",
            "\n",
            "              precision    recall  f1-score   support\n",
            "\n",
            "    positive       0.81      0.83      0.82       156\n",
            "     neutral       0.86      0.86      0.86       192\n",
            "    negative       0.38      0.25      0.30        12\n",
            "\n",
            "    accuracy                           0.83       360\n",
            "   macro avg       0.68      0.65      0.66       360\n",
            "weighted avg       0.82      0.83      0.82       360\n",
            "\n",
            "              precision    recall  f1-score   support\n",
            "\n",
            "    positive       0.80      0.82      0.81       156\n",
            "     neutral       0.85      0.85      0.85       192\n",
            "    negative       0.50      0.33      0.40        12\n",
            "\n",
            "    accuracy                           0.82       360\n",
            "   macro avg       0.72      0.67      0.69       360\n",
            "weighted avg       0.82      0.82      0.82       360\n",
            "\n"
          ]
        }
      ]
    },
    {
      "cell_type": "code",
      "source": [
        "#TF - IDF process\n",
        "data =  pd.read_csv(path)\n",
        "\n",
        "data['Sentiment_Num'] = data.sentiment.map({\n",
        "    'positive':0,\n",
        "    'neutral':1,\n",
        "    'negative':2\n",
        "\n",
        "})\n",
        "Y = list(data['Sentiment_Num'])\n",
        "vectorizer = TfidfVectorizer(ngram_range=(1, 2), max_df=1.0, min_df=1, norm='l1')\n",
        "X = vectorizer.fit_transform(data['comments'])"
      ],
      "metadata": {
        "id": "aHF-zNHrmue6"
      },
      "execution_count": 75,
      "outputs": []
    },
    {
      "cell_type": "code",
      "source": [
        "device = torch.device('cuda' if torch.cuda.is_available() else 'cpu')\n",
        "Xtrain, Xtest , Ytrain, Ytest = train_test_split(X, Y, test_size=0.2, random_state=69)"
      ],
      "metadata": {
        "id": "2Mn8qCUL8WqU"
      },
      "execution_count": 76,
      "outputs": []
    },
    {
      "cell_type": "code",
      "source": [
        "vm_classifier = SVC(kernel='linear')  # Linear kernel\n",
        "cv_scores = cross_val_score(vm_classifier, Xtrain, Ytrain, cv=10)\n",
        "vm_classifier.fit(Xtrain, Ytrain)\n",
        "Ypred = vm_classifier.predict(Xtest)\n",
        "print(classification_report(Ytest,Ypred, target_names=['positive', 'neutral', 'negative']))\n",
        "\n",
        "\n",
        "# Random Forests\n",
        "rf_classifier = RandomForestClassifier(n_estimators=100, random_state=42)\n",
        "cv_scores = cross_val_score(rf_classifier, Xtrain, Ytrain, cv=10)\n",
        "rf_classifier.fit(Xtrain, Ytrain)\n",
        "Ypred = rf_classifier.predict(Xtest)\n",
        "print(classification_report(Ytest,Ypred, target_names=['positive', 'neutral', 'negative']))\n",
        "\n",
        "\n",
        "# KNN\n",
        "knn_classifier = KNeighborsClassifier(n_neighbors=5)\n",
        "cv_scores = cross_val_score(knn_classifier, Xtrain, Ytrain, cv=10)\n",
        "knn_classifier.fit(Xtrain, Ytrain)\n",
        "Ypred = knn_classifier.predict(Xtest)\n",
        "print(classification_report(Ytest,Ypred, target_names=['positive', 'neutral', 'negative']))"
      ],
      "metadata": {
        "id": "Cj5BEDRXrSXr",
        "colab": {
          "base_uri": "https://localhost:8080/"
        },
        "outputId": "67606761-48c8-4d3d-ce86-af35a6977b15"
      },
      "execution_count": 77,
      "outputs": [
        {
          "output_type": "stream",
          "name": "stderr",
          "text": [
            "/usr/local/lib/python3.10/dist-packages/sklearn/metrics/_classification.py:1344: UndefinedMetricWarning: Precision and F-score are ill-defined and being set to 0.0 in labels with no predicted samples. Use `zero_division` parameter to control this behavior.\n",
            "  _warn_prf(average, modifier, msg_start, len(result))\n",
            "/usr/local/lib/python3.10/dist-packages/sklearn/metrics/_classification.py:1344: UndefinedMetricWarning: Precision and F-score are ill-defined and being set to 0.0 in labels with no predicted samples. Use `zero_division` parameter to control this behavior.\n",
            "  _warn_prf(average, modifier, msg_start, len(result))\n",
            "/usr/local/lib/python3.10/dist-packages/sklearn/metrics/_classification.py:1344: UndefinedMetricWarning: Precision and F-score are ill-defined and being set to 0.0 in labels with no predicted samples. Use `zero_division` parameter to control this behavior.\n",
            "  _warn_prf(average, modifier, msg_start, len(result))\n"
          ]
        },
        {
          "output_type": "stream",
          "name": "stdout",
          "text": [
            "              precision    recall  f1-score   support\n",
            "\n",
            "    positive       1.00      0.01      0.03       156\n",
            "     neutral       0.54      1.00      0.70       192\n",
            "    negative       0.00      0.00      0.00        12\n",
            "\n",
            "    accuracy                           0.54       360\n",
            "   macro avg       0.51      0.34      0.24       360\n",
            "weighted avg       0.72      0.54      0.38       360\n",
            "\n",
            "              precision    recall  f1-score   support\n",
            "\n",
            "    positive       0.81      0.79      0.80       156\n",
            "     neutral       0.82      0.88      0.85       192\n",
            "    negative       1.00      0.08      0.15        12\n",
            "\n",
            "    accuracy                           0.82       360\n",
            "   macro avg       0.88      0.59      0.60       360\n",
            "weighted avg       0.82      0.82      0.81       360\n",
            "\n",
            "              precision    recall  f1-score   support\n",
            "\n",
            "    positive       0.80      0.33      0.46       156\n",
            "     neutral       0.61      0.94      0.74       192\n",
            "    negative       1.00      0.08      0.15        12\n",
            "\n",
            "    accuracy                           0.64       360\n",
            "   macro avg       0.80      0.45      0.45       360\n",
            "weighted avg       0.70      0.64      0.60       360\n",
            "\n"
          ]
        }
      ]
    },
    {
      "cell_type": "markdown",
      "source": [
        "# Part3"
      ],
      "metadata": {
        "id": "OZ-ZBsWIyYi0"
      }
    },
    {
      "cell_type": "code",
      "source": [
        "data_sim = pd.read_csv('/content/train_2023.csv')"
      ],
      "metadata": {
        "id": "z62vDKaWQUnO"
      },
      "execution_count": 78,
      "outputs": []
    },
    {
      "cell_type": "code",
      "source": [
        "data_sim = pd.read_csv('/content/train_2019.csv')"
      ],
      "metadata": {
        "id": "qa6S8OfjQQmt"
      },
      "execution_count": 79,
      "outputs": []
    },
    {
      "cell_type": "code",
      "source": [
        "import nltk\n",
        "nltk.download('stopwords')\n",
        "from sklearn.metrics.pairwise import cosine_similarity\n",
        "from collections import Counter\n",
        "from nltk.corpus import stopwords\n",
        "from itertools import permutations\n",
        "import numpy as np\n",
        "\n",
        "# data_sim = pd.read_csv('/content/gdrive/MyDrive/train_2023.csv')\n",
        "\n",
        "# Tokenize and preprocess the text\n",
        "comments = data_sim['comments'].str.lower()  # Convert to lowercase\n",
        "comments = comments.apply(word_tokenize)  # Tokenize text\n",
        "\n",
        "# Remove stopwords\n",
        "stop_words_fr = set(stopwords.words('french'))\n",
        "comments = comments.apply(lambda x: [word for word in x if word not in stop_words_fr])\n",
        "stop_words_en = set(stopwords.words('english'))\n",
        "comments = comments.apply(lambda x: [word for word in x if word not in stop_words_en])\n",
        "# Flatten the list of tokens\n",
        "flat_list = [word for sublist in comments for word in sublist]\n",
        "\n",
        "# Count frequencies\n",
        "word_freq = Counter(flat_list)\n",
        "\n",
        "# Get the 100 most frequent words\n",
        "most_common_words = [word for word, _ in word_freq.most_common(400)]\n",
        "\n",
        "\n",
        "\n",
        "with open(model_name, 'rb') as handle:\n",
        "  model = pickle.load(handle)\n",
        "vector = model.wv\n",
        "X = [vector[word] for word in most_common_words]\n",
        "X = np.array(X)\n",
        "\n",
        "\n",
        "cosine_sim = cosine_similarity(X)\n",
        "#word_pairs = list(combinations(most_common_words, 2))\n",
        "word_pairs = list(permutations(most_common_words, 2))\n",
        "results_df = pd.DataFrame(word_pairs, columns=['Word1', 'Word2'])\n",
        "results_df['Cosine Similarity'] = [cosine_sim[most_common_words.index(word1)][most_common_words.index(word2)] for word1, word2 in word_pairs]\n",
        "\n",
        "# Save DataFrame to CSV\n",
        "results_df.to_csv('cosine_similarity_results.csv', index=False)"
      ],
      "metadata": {
        "colab": {
          "base_uri": "https://localhost:8080/"
        },
        "id": "jA7HDG1Msa_1",
        "outputId": "17b666de-dfa5-4e64-9658-8a3df2801096"
      },
      "execution_count": 80,
      "outputs": [
        {
          "output_type": "stream",
          "name": "stderr",
          "text": [
            "[nltk_data] Downloading package stopwords to /root/nltk_data...\n",
            "[nltk_data]   Package stopwords is already up-to-date!\n"
          ]
        }
      ]
    },
    {
      "cell_type": "code",
      "source": [
        "df = pd.read_csv('cosine_similarity_results.csv')\n",
        "def get_top_similar_words(word, n=30):\n",
        "    if word not in df['Word1'].values:\n",
        "        return \"Word not found in dataset\"\n",
        "    similar_words = df[df['Word1'] == word].nlargest(n, 'Cosine Similarity')['Word2'].values\n",
        "    return similar_words\n",
        "\n",
        "# Function to get top similar words for given pair\n",
        "def get_top_similar_words_pair(word1, word2, n=30):\n",
        "    similar_words_word1 = get_top_similar_words(word1, n)\n",
        "    similar_words_word2 = get_top_similar_words(word2, n)\n",
        "    return similar_words_word1, similar_words_word2\n",
        "\n",
        "# # Example usage\n",
        "# word1 = \"room\"\n",
        "# word2 = \"bed\"\n",
        "# top_similar_word1, top_similar_word2 = get_top_similar_words_pair(word1, word2)\n",
        "# top_similar_word1 = top_similar_word1.tolist()\n",
        "# top_similar_word2 = top_similar_word2.tolist()\n",
        "# if word1 in top_similar_word2:\n",
        "#   top_similar_word2.remove(word1)\n",
        "# if word2 in top_similar_word1:\n",
        "#   top_similar_word1.remove(word2)\n",
        "\n",
        "# top_similar_word1 = np.array(top_similar_word1)\n",
        "# top_similar_word2 = np.array(top_similar_word2)\n",
        "\n",
        "# print(f\"Top {len(top_similar_word1)} similar words to '{word1}': {top_similar_word1}\")\n",
        "# print(f\"Top {len(top_similar_word2)} similar words to '{word2}': {top_similar_word2}\")"
      ],
      "metadata": {
        "id": "145blxO01jSP"
      },
      "execution_count": 81,
      "outputs": []
    },
    {
      "cell_type": "code",
      "source": [
        "def cosine_sim(word, neighbors, column1, column2, cosine_similarity_file):\n",
        "\n",
        "    df = pd.read_csv(cosine_similarity_file)\n",
        "    max_similarities_word = []\n",
        "\n",
        "    for neighbor in neighbors:\n",
        "        # Filter rows where 'Word1' matches the current neighbor\n",
        "        filtered_rows = df[(df[column1] == neighbor)]\n",
        "        # print(filtered_rows)\n",
        "        #print(filtered_rows.iterrows())\n",
        "        for index, row in filtered_rows.iterrows():\n",
        "            cosine_similarity = row['Cosine Similarity']\n",
        "            word_value = row[column2]\n",
        "\n",
        "            # Check if the word2_value matches word2\n",
        "            if word_value == word:\n",
        "                # print(row['Word1'])\n",
        "                # print(row['Word2'])\n",
        "                # print(row['Cosine Similarity'])\n",
        "                max_similarities_word.append(cosine_similarity)\n",
        "    max_similarities_word = sorted(max_similarities_word, reverse=True)\n",
        "    print(max_similarities_word)\n",
        "    return max_similarities_word"
      ],
      "metadata": {
        "id": "Bh4G2ro3Mh7_"
      },
      "execution_count": 82,
      "outputs": []
    },
    {
      "cell_type": "markdown",
      "source": [
        "## Maximum Similarity of Neighborhoods"
      ],
      "metadata": {
        "id": "yGJ7Vcuhbikn"
      }
    },
    {
      "cell_type": "code",
      "source": [
        "def max_similarity_of_neighborhoods_from_file(word1, word2, neighbors_word1, neighbors_word2, cosine_similarity_file):\n",
        "    # Read cosine similarity scores from file\n",
        "    df = pd.read_csv(cosine_similarity_file)\n",
        "    print(\"Neighbors of word1:\")\n",
        "    max_similarities_word2 = cosine_sim(word2, neighbors_word1, 'Word1', 'Word2',cosine_similarity_file)\n",
        "\n",
        "    if not max_similarities_word2:\n",
        "        return 0.0  # Return 0 if no similarity scores found\n",
        "\n",
        "    # Find maximum similarity between word1 and neighbors of word2\n",
        "    alpha_ij = max(max_similarities_word2)\n",
        "\n",
        "    print(\"\\n\")\n",
        "    print(\"Neighbors of word2:\")\n",
        "    max_similarities_word1 = cosine_sim(word1, neighbors_word2, 'Word2', 'Word1',cosine_similarity_file)\n",
        "\n",
        "    if not max_similarities_word1:\n",
        "        return 0.0  # Return 0 if no similarity scores found\n",
        "\n",
        "    # Find maximum similarity between word2 and neighbors of word1\n",
        "    alpha_ji = max(max_similarities_word1)\n",
        "\n",
        "    # Maximum similarity of neighborhoods\n",
        "    Mn = max(alpha_ij, alpha_ji)\n",
        "\n",
        "    return Mn\n",
        "\n",
        "# Example usage\n",
        "cosine_similarity_file='cosine_similarity_results.csv'\n",
        "\n",
        "# Calculate Maximum Similarity of Neighborhoods using cosine similarity scores from file\n",
        "# similarity = max_similarity_of_neighborhoods_from_file(word1, word2, top_similar_word1, top_similar_word2, cosine_similarity_file)\n",
        "# print(\"Maximum Similarity of Neighborhoods (Cosine Similarity from File):\", similarity)"
      ],
      "metadata": {
        "id": "kM_RlPem32Yd"
      },
      "execution_count": 83,
      "outputs": []
    },
    {
      "cell_type": "markdown",
      "source": [
        "## Correlation of Neighborhood Similarities"
      ],
      "metadata": {
        "id": "ap6mymE0bsR2"
      }
    },
    {
      "cell_type": "code",
      "source": [
        "from scipy.stats import pearsonr\n",
        "def pearson_correlation(vec1, vec2):\n",
        "    # Compute the Pearson correlation coefficient between two vectors\n",
        "    correlation, _ = pearsonr(vec1, vec2)\n",
        "    return correlation"
      ],
      "metadata": {
        "id": "3jIBTsXdh1kT"
      },
      "execution_count": 84,
      "outputs": []
    },
    {
      "cell_type": "code",
      "source": [
        "def correlation_of_neighborhood_similarities(word1, word2, neighbors_word1, neighbors_word2, cosine_similarity_file):\n",
        "    print('Calculate cosine similarity of word1 with neighbors of word1')\n",
        "    cosine_similarities_word1 = cosine_sim(word1, neighbors_word1,'Word2','Word1', cosine_similarity_file)\n",
        "\n",
        "    print('Calculate cosine similarity of word1 with neighbors of word2')\n",
        "    cosine_similarities_word1_with_neighbors_word2 = cosine_sim(word1, neighbors_word2,'Word2','Word1', cosine_similarity_file)\n",
        "\n",
        "    print('Calculate cosine similarity of word2 with neighbors of word2')\n",
        "    cosine_similarities_word2 = cosine_sim(word2, neighbors_word1,'Word1','Word2', cosine_similarity_file)\n",
        "\n",
        "    print('Calculate cosine similarity of word2 with neighbors of word1')\n",
        "    cosine_similarities_word2_with_neighbors_word1 = cosine_sim(word2, neighbors_word2,'Word1','Word2', cosine_similarity_file)\n",
        "\n",
        "    # Compute Pearson correlation coefficient between the cosine similarity vectors\n",
        "    correlation1 = pearson_correlation(cosine_similarities_word1, cosine_similarities_word1_with_neighbors_word2)\n",
        "    correlation2 = pearson_correlation(cosine_similarities_word2, cosine_similarities_word2_with_neighbors_word1)\n",
        "\n",
        "    # Take the maximum correlation between the two words\n",
        "    correlation = max(correlation1, correlation2)\n",
        "\n",
        "    return correlation\n",
        "cosine_similarity_file='cosine_similarity_results.csv'\n",
        "# similarity = correlation_of_neighborhood_similarities(word1, word2, top_similar_word1, top_similar_word2, cosine_similarity_file)\n",
        "# print(\"Correlation of Neighborhood Similarities:\", similarity)"
      ],
      "metadata": {
        "id": "v2jnAccNccqC"
      },
      "execution_count": 85,
      "outputs": []
    },
    {
      "cell_type": "markdown",
      "source": [
        "## Sum of Squared Neighborhood Similarities"
      ],
      "metadata": {
        "id": "fD8Vdhlyb0ek"
      }
    },
    {
      "cell_type": "code",
      "source": [
        "def cosine_sim_2(word, neighbors, column1, column2, cosine_similarity_file):\n",
        "\n",
        "    df = pd.read_csv(cosine_similarity_file)\n",
        "    max_similarities_word = []\n",
        "\n",
        "    for neighbor in neighbors:\n",
        "\n",
        "        filtered_rows = df[(df[column1] == neighbor)]\n",
        "        #print(filtered_rows)\n",
        "        #print(filtered_rows.iterrows())\n",
        "        for index, row in filtered_rows.iterrows():\n",
        "            cosine_similarity = row['Cosine Similarity']\n",
        "            word_value = row[column2]\n",
        "\n",
        "            # Check if the word2_value matches word2\n",
        "            if word_value == word:\n",
        "                # print(row['Word1'])\n",
        "                # print(row['Word2'])\n",
        "                # print(row['Cosine Similarity'])\n",
        "                max_similarities_word.append(cosine_similarity * cosine_similarity)\n",
        "    max_similarities_word = sorted(max_similarities_word)\n",
        "    print(max_similarities_word)\n",
        "    return max_similarities_word"
      ],
      "metadata": {
        "id": "VonpIoQ9qWkv"
      },
      "execution_count": 86,
      "outputs": []
    },
    {
      "cell_type": "code",
      "source": [
        "def sum_of_squared_neighborhood_similarities(word1, word2, neighbors_word1, neighbors_word2, cosine_similarity_file):\n",
        "\n",
        "\n",
        "    # Calculate sum of squared similarities between word1 and neighbors of word2\n",
        "    sum_squares_word1 = sum(cosine_sim_2(word1, neighbors_word2,'Word2','Word1', cosine_similarity_file))\n",
        "    print(\"\\n\")\n",
        "    # Calculate sum of squared similarities between word2 and neighbors of word1\n",
        "    sum_squares_word2 = sum(cosine_sim_2(word2, neighbors_word1,'Word2','Word1', cosine_similarity_file))\n",
        "\n",
        "\n",
        "    similarity = np.sqrt(sum_squares_word1 + sum_squares_word2)\n",
        "\n",
        "    return similarity\n",
        "\n",
        "cosine_similarity_file='cosine_similarity_results.csv'\n",
        "# similarity = sum_of_squared_neighborhood_similarities(word1, word2, top_similar_word1, top_similar_word2, cosine_similarity_file)\n",
        "# print(\"Sum of Squared Neighborhood Similarities:\", similarity)"
      ],
      "metadata": {
        "id": "rIEY9N0an1E7"
      },
      "execution_count": 87,
      "outputs": []
    },
    {
      "cell_type": "markdown",
      "source": [
        "## Calculate all three metrics"
      ],
      "metadata": {
        "id": "ABVsRoU2kzUx"
      }
    },
    {
      "cell_type": "code",
      "source": [
        "def similarities(word1, word2, neighbors_word1, neighbors_word2, cosine_similarity_file):\n",
        "  a = max_similarity_of_neighborhoods_from_file(word1, word2, neighbors_word1, neighbors_word2, cosine_similarity_file)\n",
        "  print(\"--------------------------------------------------------------------------------------------------------------\")\n",
        "  b = correlation_of_neighborhood_similarities(word1, word2, neighbors_word1, neighbors_word2, cosine_similarity_file)\n",
        "  print(\"--------------------------------------------------------------------------------------------------------------\")\n",
        "  c = sum_of_squared_neighborhood_similarities(word1, word2, neighbors_word1, neighbors_word2, cosine_similarity_file)\n",
        "  print(\"--------------------------------------------------------------------------------------------------------------\")\n",
        "  print(f\"a is {a}, b is {b}, c is {c}\")\n",
        "\n",
        "\n",
        "#Any words you like as input from the top 400 most used words\n",
        "# word1 = \"balcony\"\n",
        "# word2 = \"home\"\n",
        "\n",
        "# word1 = \"room\"\n",
        "# word2 = \"bed\"\n",
        "\n",
        "# word1 = \"comfortable\"\n",
        "# word2 = \"bed\"\n",
        "\n",
        "# word1 = \"city\"\n",
        "# word2 = \"bathroom\"\n",
        "\n",
        "word1 = \"kitchen\"\n",
        "word2 = \"bathroom\"\n",
        "\n",
        "top_similar_word1, top_similar_word2 = get_top_similar_words_pair(word1, word2, n=10)\n",
        "print(top_similar_word1)\n",
        "top_similar_word1 = top_similar_word1.tolist()\n",
        "print(top_similar_word2)\n",
        "top_similar_word2 = top_similar_word2.tolist()\n",
        "\n",
        "if word1 in top_similar_word2:\n",
        "  top_similar_word2.remove(word1)\n",
        "if word2 in top_similar_word1:\n",
        "  top_similar_word1.remove(word2)\n",
        "\n",
        "if len(top_similar_word1)>len(top_similar_word2):\n",
        "    top_similar_word1.pop()\n",
        "if len(top_similar_word1)<len(top_similar_word2):\n",
        "     top_similar_word2.pop()\n",
        "\n",
        "print(f\"Top {len(top_similar_word1)} similar words to '{word1}': {top_similar_word1}\")\n",
        "print(f\"Top {len(top_similar_word2)} similar words to '{word2}': {top_similar_word2}\")\n",
        "top_similar_word1 = np.array(top_similar_word1)\n",
        "top_similar_word2 = np.array(top_similar_word2)\n",
        "similarities(word1, word2, top_similar_word1, top_similar_word2, cosine_similarity_file)\n",
        "\n",
        "\n"
      ],
      "metadata": {
        "colab": {
          "base_uri": "https://localhost:8080/"
        },
        "id": "nlnZUuoNkt3A",
        "outputId": "f49c5f76-1aeb-463f-a6d1-1410c0e49694"
      },
      "execution_count": 88,
      "outputs": [
        {
          "output_type": "stream",
          "name": "stdout",
          "text": [
            "['bed' 'equipped' 'beautiful' 'room' 'lovely' 'needed' 'space' 'balcony'\n",
            " 'stylish' 'exactly']\n",
            "['large' 'little' 'pictures' 'bit' 'every' 'quite' 'things' 'nights'\n",
            " 'although' 'space']\n",
            "Top 10 similar words to 'kitchen': ['bed', 'equipped', 'beautiful', 'room', 'lovely', 'needed', 'space', 'balcony', 'stylish', 'exactly']\n",
            "Top 10 similar words to 'bathroom': ['large', 'little', 'pictures', 'bit', 'every', 'quite', 'things', 'nights', 'although', 'space']\n",
            "Neighbors of word1:\n",
            "[0.9985059, 0.998457, 0.99833715, 0.99797344, 0.997779, 0.997185, 0.99690586, 0.99673223, 0.99642783, 0.9962143]\n",
            "\n",
            "\n",
            "Neighbors of word2:\n",
            "[0.998446, 0.9977266, 0.9973795, 0.9971737, 0.99700755, 0.9967384, 0.996594, 0.99629205, 0.99624145, 0.9953819]\n",
            "--------------------------------------------------------------------------------------------------------------\n",
            "Calculate cosine similarity of word1 with neighbors of word1\n",
            "[0.99895364, 0.9989305, 0.9987791, 0.99873644, 0.9986446, 0.99858433, 0.998446, 0.99832827, 0.998293, 0.9982567]\n",
            "Calculate cosine similarity of word1 with neighbors of word2\n",
            "[0.998446, 0.9977266, 0.9973795, 0.9971737, 0.99700755, 0.9967384, 0.996594, 0.99629205, 0.99624145, 0.9953819]\n",
            "Calculate cosine similarity of word2 with neighbors of word2\n",
            "[0.9985059, 0.998457, 0.99833715, 0.99797344, 0.997779, 0.997185, 0.99690586, 0.99673223, 0.99642783, 0.9962143]\n",
            "Calculate cosine similarity of word2 with neighbors of word1\n",
            "[0.9991561, 0.99910563, 0.9989069, 0.9988908, 0.99888116, 0.998815, 0.9987169, 0.9986769, 0.9985434, 0.9985059]\n",
            "--------------------------------------------------------------------------------------------------------------\n",
            "[0.9907851268476101, 0.9924970266981025, 0.9925978488932025, 0.993199600836, 0.9934874380345601, 0.9940240547570024, 0.9943553879716901, 0.9947658670202499, 0.9954583683475601, 0.9968944149159998]\n",
            "\n",
            "\n",
            "[0.99244293152449, 0.992868420398509, 0.9934751383207729, 0.9938212937023396, 0.9943779242249999, 0.995562932841, 0.9959509869454336, 0.9966770650701225, 0.996916380849, 0.9970140323348099]\n",
            "--------------------------------------------------------------------------------------------------------------\n",
            "a is 0.9985059, b is 0.9580426872117298, c is 4.459503586783337\n"
          ]
        }
      ]
    },
    {
      "cell_type": "markdown",
      "source": [
        "## Comments"
      ],
      "metadata": {
        "id": "r7ppKNRPrfTF"
      }
    },
    {
      "cell_type": "markdown",
      "source": [
        "\n",
        "Παρατηρούμε ότι η ομοιότητα των γειτονιών βάσει της παραμέτρου a αυξάνεται κατά $10^{-4}$ για αντίστοιχη αύξηση 10 λέξεων σε μια γειτονιά  \n",
        "\n",
        "Η μετρική b παρουσιάζει αυξομείωση αλλά κειμένεται κοντά στην μονάδα, πράγμα που εκφράζει την γραμμική συσχέτιση της ομοιότητας της λέξης word1 με την γειτονιά της αλλά και με την γειτονιά της word2. Από εδώ θα μπορούσαμε να συμπεράνουμε ότι τα word1 και word2 είναι νοηματικά κοντά μεταξύ τους.\n",
        "\n",
        "To c όπως ήταν αναμενόμενο αυξάνεται ως άθροισμα τετραγώνων και δεν φράσεται από κάποιο όριο όπως αναφέρεται στην σχετική έρευνα. Είχαμε αύξηση κατά 1.5 κατα μέσο όρο μονάδες για αντίστοιχη αύξηση 10 λέξεων σε μια γειτονιά  "
      ],
      "metadata": {
        "id": "frp-4-jxm31K"
      }
    }
  ],
  "metadata": {
    "accelerator": "GPU",
    "colab": {
      "gpuType": "T4",
      "provenance": [],
      "toc_visible": true
    },
    "kernelspec": {
      "display_name": "Python 3",
      "name": "python3"
    },
    "language_info": {
      "name": "python"
    },
    "widgets": {
      "application/vnd.jupyter.widget-state+json": {
        "b82071384ebc41c8a5c615f141ca3172": {
          "model_module": "@jupyter-widgets/controls",
          "model_name": "HBoxModel",
          "model_module_version": "1.5.0",
          "state": {
            "_dom_classes": [],
            "_model_module": "@jupyter-widgets/controls",
            "_model_module_version": "1.5.0",
            "_model_name": "HBoxModel",
            "_view_count": null,
            "_view_module": "@jupyter-widgets/controls",
            "_view_module_version": "1.5.0",
            "_view_name": "HBoxView",
            "box_style": "",
            "children": [
              "IPY_MODEL_a623804350d942059f3d71cf7c5f95a9",
              "IPY_MODEL_efb7b54e12904fe182d8a36cf22784bf",
              "IPY_MODEL_4d4c5ddf98b34174a716fc46002d61f2"
            ],
            "layout": "IPY_MODEL_4819f1c3664d4e2ebdc2dc5c21ec0275"
          }
        },
        "a623804350d942059f3d71cf7c5f95a9": {
          "model_module": "@jupyter-widgets/controls",
          "model_name": "HTMLModel",
          "model_module_version": "1.5.0",
          "state": {
            "_dom_classes": [],
            "_model_module": "@jupyter-widgets/controls",
            "_model_module_version": "1.5.0",
            "_model_name": "HTMLModel",
            "_view_count": null,
            "_view_module": "@jupyter-widgets/controls",
            "_view_module_version": "1.5.0",
            "_view_name": "HTMLView",
            "description": "",
            "description_tooltip": null,
            "layout": "IPY_MODEL_e939e69f6a8f47818335038b4122cdc5",
            "placeholder": "​",
            "style": "IPY_MODEL_a08d95ce70f24a60ad7069a0e892e3b5",
            "value": "config.json: 100%"
          }
        },
        "efb7b54e12904fe182d8a36cf22784bf": {
          "model_module": "@jupyter-widgets/controls",
          "model_name": "FloatProgressModel",
          "model_module_version": "1.5.0",
          "state": {
            "_dom_classes": [],
            "_model_module": "@jupyter-widgets/controls",
            "_model_module_version": "1.5.0",
            "_model_name": "FloatProgressModel",
            "_view_count": null,
            "_view_module": "@jupyter-widgets/controls",
            "_view_module_version": "1.5.0",
            "_view_name": "ProgressView",
            "bar_style": "success",
            "description": "",
            "description_tooltip": null,
            "layout": "IPY_MODEL_e4d02cdc6c3c4c1aa7f283242991fbb9",
            "max": 725,
            "min": 0,
            "orientation": "horizontal",
            "style": "IPY_MODEL_edfd4245b3014da49132c6d699d038ca",
            "value": 725
          }
        },
        "4d4c5ddf98b34174a716fc46002d61f2": {
          "model_module": "@jupyter-widgets/controls",
          "model_name": "HTMLModel",
          "model_module_version": "1.5.0",
          "state": {
            "_dom_classes": [],
            "_model_module": "@jupyter-widgets/controls",
            "_model_module_version": "1.5.0",
            "_model_name": "HTMLModel",
            "_view_count": null,
            "_view_module": "@jupyter-widgets/controls",
            "_view_module_version": "1.5.0",
            "_view_name": "HTMLView",
            "description": "",
            "description_tooltip": null,
            "layout": "IPY_MODEL_90eef77eadaa4e58a179df44031c3c48",
            "placeholder": "​",
            "style": "IPY_MODEL_503fbb7fcc31451181fe33bfba0164d3",
            "value": " 725/725 [00:00&lt;00:00, 51.1kB/s]"
          }
        },
        "4819f1c3664d4e2ebdc2dc5c21ec0275": {
          "model_module": "@jupyter-widgets/base",
          "model_name": "LayoutModel",
          "model_module_version": "1.2.0",
          "state": {
            "_model_module": "@jupyter-widgets/base",
            "_model_module_version": "1.2.0",
            "_model_name": "LayoutModel",
            "_view_count": null,
            "_view_module": "@jupyter-widgets/base",
            "_view_module_version": "1.2.0",
            "_view_name": "LayoutView",
            "align_content": null,
            "align_items": null,
            "align_self": null,
            "border": null,
            "bottom": null,
            "display": null,
            "flex": null,
            "flex_flow": null,
            "grid_area": null,
            "grid_auto_columns": null,
            "grid_auto_flow": null,
            "grid_auto_rows": null,
            "grid_column": null,
            "grid_gap": null,
            "grid_row": null,
            "grid_template_areas": null,
            "grid_template_columns": null,
            "grid_template_rows": null,
            "height": null,
            "justify_content": null,
            "justify_items": null,
            "left": null,
            "margin": null,
            "max_height": null,
            "max_width": null,
            "min_height": null,
            "min_width": null,
            "object_fit": null,
            "object_position": null,
            "order": null,
            "overflow": null,
            "overflow_x": null,
            "overflow_y": null,
            "padding": null,
            "right": null,
            "top": null,
            "visibility": null,
            "width": null
          }
        },
        "e939e69f6a8f47818335038b4122cdc5": {
          "model_module": "@jupyter-widgets/base",
          "model_name": "LayoutModel",
          "model_module_version": "1.2.0",
          "state": {
            "_model_module": "@jupyter-widgets/base",
            "_model_module_version": "1.2.0",
            "_model_name": "LayoutModel",
            "_view_count": null,
            "_view_module": "@jupyter-widgets/base",
            "_view_module_version": "1.2.0",
            "_view_name": "LayoutView",
            "align_content": null,
            "align_items": null,
            "align_self": null,
            "border": null,
            "bottom": null,
            "display": null,
            "flex": null,
            "flex_flow": null,
            "grid_area": null,
            "grid_auto_columns": null,
            "grid_auto_flow": null,
            "grid_auto_rows": null,
            "grid_column": null,
            "grid_gap": null,
            "grid_row": null,
            "grid_template_areas": null,
            "grid_template_columns": null,
            "grid_template_rows": null,
            "height": null,
            "justify_content": null,
            "justify_items": null,
            "left": null,
            "margin": null,
            "max_height": null,
            "max_width": null,
            "min_height": null,
            "min_width": null,
            "object_fit": null,
            "object_position": null,
            "order": null,
            "overflow": null,
            "overflow_x": null,
            "overflow_y": null,
            "padding": null,
            "right": null,
            "top": null,
            "visibility": null,
            "width": null
          }
        },
        "a08d95ce70f24a60ad7069a0e892e3b5": {
          "model_module": "@jupyter-widgets/controls",
          "model_name": "DescriptionStyleModel",
          "model_module_version": "1.5.0",
          "state": {
            "_model_module": "@jupyter-widgets/controls",
            "_model_module_version": "1.5.0",
            "_model_name": "DescriptionStyleModel",
            "_view_count": null,
            "_view_module": "@jupyter-widgets/base",
            "_view_module_version": "1.2.0",
            "_view_name": "StyleView",
            "description_width": ""
          }
        },
        "e4d02cdc6c3c4c1aa7f283242991fbb9": {
          "model_module": "@jupyter-widgets/base",
          "model_name": "LayoutModel",
          "model_module_version": "1.2.0",
          "state": {
            "_model_module": "@jupyter-widgets/base",
            "_model_module_version": "1.2.0",
            "_model_name": "LayoutModel",
            "_view_count": null,
            "_view_module": "@jupyter-widgets/base",
            "_view_module_version": "1.2.0",
            "_view_name": "LayoutView",
            "align_content": null,
            "align_items": null,
            "align_self": null,
            "border": null,
            "bottom": null,
            "display": null,
            "flex": null,
            "flex_flow": null,
            "grid_area": null,
            "grid_auto_columns": null,
            "grid_auto_flow": null,
            "grid_auto_rows": null,
            "grid_column": null,
            "grid_gap": null,
            "grid_row": null,
            "grid_template_areas": null,
            "grid_template_columns": null,
            "grid_template_rows": null,
            "height": null,
            "justify_content": null,
            "justify_items": null,
            "left": null,
            "margin": null,
            "max_height": null,
            "max_width": null,
            "min_height": null,
            "min_width": null,
            "object_fit": null,
            "object_position": null,
            "order": null,
            "overflow": null,
            "overflow_x": null,
            "overflow_y": null,
            "padding": null,
            "right": null,
            "top": null,
            "visibility": null,
            "width": null
          }
        },
        "edfd4245b3014da49132c6d699d038ca": {
          "model_module": "@jupyter-widgets/controls",
          "model_name": "ProgressStyleModel",
          "model_module_version": "1.5.0",
          "state": {
            "_model_module": "@jupyter-widgets/controls",
            "_model_module_version": "1.5.0",
            "_model_name": "ProgressStyleModel",
            "_view_count": null,
            "_view_module": "@jupyter-widgets/base",
            "_view_module_version": "1.2.0",
            "_view_name": "StyleView",
            "bar_color": null,
            "description_width": ""
          }
        },
        "90eef77eadaa4e58a179df44031c3c48": {
          "model_module": "@jupyter-widgets/base",
          "model_name": "LayoutModel",
          "model_module_version": "1.2.0",
          "state": {
            "_model_module": "@jupyter-widgets/base",
            "_model_module_version": "1.2.0",
            "_model_name": "LayoutModel",
            "_view_count": null,
            "_view_module": "@jupyter-widgets/base",
            "_view_module_version": "1.2.0",
            "_view_name": "LayoutView",
            "align_content": null,
            "align_items": null,
            "align_self": null,
            "border": null,
            "bottom": null,
            "display": null,
            "flex": null,
            "flex_flow": null,
            "grid_area": null,
            "grid_auto_columns": null,
            "grid_auto_flow": null,
            "grid_auto_rows": null,
            "grid_column": null,
            "grid_gap": null,
            "grid_row": null,
            "grid_template_areas": null,
            "grid_template_columns": null,
            "grid_template_rows": null,
            "height": null,
            "justify_content": null,
            "justify_items": null,
            "left": null,
            "margin": null,
            "max_height": null,
            "max_width": null,
            "min_height": null,
            "min_width": null,
            "object_fit": null,
            "object_position": null,
            "order": null,
            "overflow": null,
            "overflow_x": null,
            "overflow_y": null,
            "padding": null,
            "right": null,
            "top": null,
            "visibility": null,
            "width": null
          }
        },
        "503fbb7fcc31451181fe33bfba0164d3": {
          "model_module": "@jupyter-widgets/controls",
          "model_name": "DescriptionStyleModel",
          "model_module_version": "1.5.0",
          "state": {
            "_model_module": "@jupyter-widgets/controls",
            "_model_module_version": "1.5.0",
            "_model_name": "DescriptionStyleModel",
            "_view_count": null,
            "_view_module": "@jupyter-widgets/base",
            "_view_module_version": "1.2.0",
            "_view_name": "StyleView",
            "description_width": ""
          }
        },
        "067a1d4abb0e4ae0a98937f72fe0fe96": {
          "model_module": "@jupyter-widgets/controls",
          "model_name": "HBoxModel",
          "model_module_version": "1.5.0",
          "state": {
            "_dom_classes": [],
            "_model_module": "@jupyter-widgets/controls",
            "_model_module_version": "1.5.0",
            "_model_name": "HBoxModel",
            "_view_count": null,
            "_view_module": "@jupyter-widgets/controls",
            "_view_module_version": "1.5.0",
            "_view_name": "HBoxView",
            "box_style": "",
            "children": [
              "IPY_MODEL_dcb2af6f6b93436985024cb7a050a0a9",
              "IPY_MODEL_58f9664567744b94b10b1ab7cf875e46",
              "IPY_MODEL_0c6438c4498644608dc4317051f26652"
            ],
            "layout": "IPY_MODEL_e37d03ba84fe4819a020a41afc1213d3"
          }
        },
        "dcb2af6f6b93436985024cb7a050a0a9": {
          "model_module": "@jupyter-widgets/controls",
          "model_name": "HTMLModel",
          "model_module_version": "1.5.0",
          "state": {
            "_dom_classes": [],
            "_model_module": "@jupyter-widgets/controls",
            "_model_module_version": "1.5.0",
            "_model_name": "HTMLModel",
            "_view_count": null,
            "_view_module": "@jupyter-widgets/controls",
            "_view_module_version": "1.5.0",
            "_view_name": "HTMLView",
            "description": "",
            "description_tooltip": null,
            "layout": "IPY_MODEL_b4754f8c849b4a6e80840a3d45660d4e",
            "placeholder": "​",
            "style": "IPY_MODEL_4bbd8361666e42a98978b09836c9f029",
            "value": "pytorch_model.bin: 100%"
          }
        },
        "58f9664567744b94b10b1ab7cf875e46": {
          "model_module": "@jupyter-widgets/controls",
          "model_name": "FloatProgressModel",
          "model_module_version": "1.5.0",
          "state": {
            "_dom_classes": [],
            "_model_module": "@jupyter-widgets/controls",
            "_model_module_version": "1.5.0",
            "_model_name": "FloatProgressModel",
            "_view_count": null,
            "_view_module": "@jupyter-widgets/controls",
            "_view_module_version": "1.5.0",
            "_view_name": "ProgressView",
            "bar_style": "success",
            "description": "",
            "description_tooltip": null,
            "layout": "IPY_MODEL_18feed411a3444a29fe8662048f9b5d9",
            "max": 1425820242,
            "min": 0,
            "orientation": "horizontal",
            "style": "IPY_MODEL_027dd742dd3d4940842bf5618fe9122e",
            "value": 1425820242
          }
        },
        "0c6438c4498644608dc4317051f26652": {
          "model_module": "@jupyter-widgets/controls",
          "model_name": "HTMLModel",
          "model_module_version": "1.5.0",
          "state": {
            "_dom_classes": [],
            "_model_module": "@jupyter-widgets/controls",
            "_model_module_version": "1.5.0",
            "_model_name": "HTMLModel",
            "_view_count": null,
            "_view_module": "@jupyter-widgets/controls",
            "_view_module_version": "1.5.0",
            "_view_name": "HTMLView",
            "description": "",
            "description_tooltip": null,
            "layout": "IPY_MODEL_e7ec171d59454b9091cab9c8fd9e398b",
            "placeholder": "​",
            "style": "IPY_MODEL_814774a72b07415abc2423a1d33a7e58",
            "value": " 1.43G/1.43G [00:12&lt;00:00, 210MB/s]"
          }
        },
        "e37d03ba84fe4819a020a41afc1213d3": {
          "model_module": "@jupyter-widgets/base",
          "model_name": "LayoutModel",
          "model_module_version": "1.2.0",
          "state": {
            "_model_module": "@jupyter-widgets/base",
            "_model_module_version": "1.2.0",
            "_model_name": "LayoutModel",
            "_view_count": null,
            "_view_module": "@jupyter-widgets/base",
            "_view_module_version": "1.2.0",
            "_view_name": "LayoutView",
            "align_content": null,
            "align_items": null,
            "align_self": null,
            "border": null,
            "bottom": null,
            "display": null,
            "flex": null,
            "flex_flow": null,
            "grid_area": null,
            "grid_auto_columns": null,
            "grid_auto_flow": null,
            "grid_auto_rows": null,
            "grid_column": null,
            "grid_gap": null,
            "grid_row": null,
            "grid_template_areas": null,
            "grid_template_columns": null,
            "grid_template_rows": null,
            "height": null,
            "justify_content": null,
            "justify_items": null,
            "left": null,
            "margin": null,
            "max_height": null,
            "max_width": null,
            "min_height": null,
            "min_width": null,
            "object_fit": null,
            "object_position": null,
            "order": null,
            "overflow": null,
            "overflow_x": null,
            "overflow_y": null,
            "padding": null,
            "right": null,
            "top": null,
            "visibility": null,
            "width": null
          }
        },
        "b4754f8c849b4a6e80840a3d45660d4e": {
          "model_module": "@jupyter-widgets/base",
          "model_name": "LayoutModel",
          "model_module_version": "1.2.0",
          "state": {
            "_model_module": "@jupyter-widgets/base",
            "_model_module_version": "1.2.0",
            "_model_name": "LayoutModel",
            "_view_count": null,
            "_view_module": "@jupyter-widgets/base",
            "_view_module_version": "1.2.0",
            "_view_name": "LayoutView",
            "align_content": null,
            "align_items": null,
            "align_self": null,
            "border": null,
            "bottom": null,
            "display": null,
            "flex": null,
            "flex_flow": null,
            "grid_area": null,
            "grid_auto_columns": null,
            "grid_auto_flow": null,
            "grid_auto_rows": null,
            "grid_column": null,
            "grid_gap": null,
            "grid_row": null,
            "grid_template_areas": null,
            "grid_template_columns": null,
            "grid_template_rows": null,
            "height": null,
            "justify_content": null,
            "justify_items": null,
            "left": null,
            "margin": null,
            "max_height": null,
            "max_width": null,
            "min_height": null,
            "min_width": null,
            "object_fit": null,
            "object_position": null,
            "order": null,
            "overflow": null,
            "overflow_x": null,
            "overflow_y": null,
            "padding": null,
            "right": null,
            "top": null,
            "visibility": null,
            "width": null
          }
        },
        "4bbd8361666e42a98978b09836c9f029": {
          "model_module": "@jupyter-widgets/controls",
          "model_name": "DescriptionStyleModel",
          "model_module_version": "1.5.0",
          "state": {
            "_model_module": "@jupyter-widgets/controls",
            "_model_module_version": "1.5.0",
            "_model_name": "DescriptionStyleModel",
            "_view_count": null,
            "_view_module": "@jupyter-widgets/base",
            "_view_module_version": "1.2.0",
            "_view_name": "StyleView",
            "description_width": ""
          }
        },
        "18feed411a3444a29fe8662048f9b5d9": {
          "model_module": "@jupyter-widgets/base",
          "model_name": "LayoutModel",
          "model_module_version": "1.2.0",
          "state": {
            "_model_module": "@jupyter-widgets/base",
            "_model_module_version": "1.2.0",
            "_model_name": "LayoutModel",
            "_view_count": null,
            "_view_module": "@jupyter-widgets/base",
            "_view_module_version": "1.2.0",
            "_view_name": "LayoutView",
            "align_content": null,
            "align_items": null,
            "align_self": null,
            "border": null,
            "bottom": null,
            "display": null,
            "flex": null,
            "flex_flow": null,
            "grid_area": null,
            "grid_auto_columns": null,
            "grid_auto_flow": null,
            "grid_auto_rows": null,
            "grid_column": null,
            "grid_gap": null,
            "grid_row": null,
            "grid_template_areas": null,
            "grid_template_columns": null,
            "grid_template_rows": null,
            "height": null,
            "justify_content": null,
            "justify_items": null,
            "left": null,
            "margin": null,
            "max_height": null,
            "max_width": null,
            "min_height": null,
            "min_width": null,
            "object_fit": null,
            "object_position": null,
            "order": null,
            "overflow": null,
            "overflow_x": null,
            "overflow_y": null,
            "padding": null,
            "right": null,
            "top": null,
            "visibility": null,
            "width": null
          }
        },
        "027dd742dd3d4940842bf5618fe9122e": {
          "model_module": "@jupyter-widgets/controls",
          "model_name": "ProgressStyleModel",
          "model_module_version": "1.5.0",
          "state": {
            "_model_module": "@jupyter-widgets/controls",
            "_model_module_version": "1.5.0",
            "_model_name": "ProgressStyleModel",
            "_view_count": null,
            "_view_module": "@jupyter-widgets/base",
            "_view_module_version": "1.2.0",
            "_view_name": "StyleView",
            "bar_color": null,
            "description_width": ""
          }
        },
        "e7ec171d59454b9091cab9c8fd9e398b": {
          "model_module": "@jupyter-widgets/base",
          "model_name": "LayoutModel",
          "model_module_version": "1.2.0",
          "state": {
            "_model_module": "@jupyter-widgets/base",
            "_model_module_version": "1.2.0",
            "_model_name": "LayoutModel",
            "_view_count": null,
            "_view_module": "@jupyter-widgets/base",
            "_view_module_version": "1.2.0",
            "_view_name": "LayoutView",
            "align_content": null,
            "align_items": null,
            "align_self": null,
            "border": null,
            "bottom": null,
            "display": null,
            "flex": null,
            "flex_flow": null,
            "grid_area": null,
            "grid_auto_columns": null,
            "grid_auto_flow": null,
            "grid_auto_rows": null,
            "grid_column": null,
            "grid_gap": null,
            "grid_row": null,
            "grid_template_areas": null,
            "grid_template_columns": null,
            "grid_template_rows": null,
            "height": null,
            "justify_content": null,
            "justify_items": null,
            "left": null,
            "margin": null,
            "max_height": null,
            "max_width": null,
            "min_height": null,
            "min_width": null,
            "object_fit": null,
            "object_position": null,
            "order": null,
            "overflow": null,
            "overflow_x": null,
            "overflow_y": null,
            "padding": null,
            "right": null,
            "top": null,
            "visibility": null,
            "width": null
          }
        },
        "814774a72b07415abc2423a1d33a7e58": {
          "model_module": "@jupyter-widgets/controls",
          "model_name": "DescriptionStyleModel",
          "model_module_version": "1.5.0",
          "state": {
            "_model_module": "@jupyter-widgets/controls",
            "_model_module_version": "1.5.0",
            "_model_name": "DescriptionStyleModel",
            "_view_count": null,
            "_view_module": "@jupyter-widgets/base",
            "_view_module_version": "1.2.0",
            "_view_name": "StyleView",
            "description_width": ""
          }
        },
        "e3d89d788dd54a0b8490cb4804d579a9": {
          "model_module": "@jupyter-widgets/controls",
          "model_name": "HBoxModel",
          "model_module_version": "1.5.0",
          "state": {
            "_dom_classes": [],
            "_model_module": "@jupyter-widgets/controls",
            "_model_module_version": "1.5.0",
            "_model_name": "HBoxModel",
            "_view_count": null,
            "_view_module": "@jupyter-widgets/controls",
            "_view_module_version": "1.5.0",
            "_view_name": "HBoxView",
            "box_style": "",
            "children": [
              "IPY_MODEL_4fd4aa00787645e29e442b477953770d",
              "IPY_MODEL_3ffb13aabe2a4ca791022121264e5959",
              "IPY_MODEL_521b5bd161724d72a3e86fbcc4b27479"
            ],
            "layout": "IPY_MODEL_1092ab7fb15448a1be46c83e0978f8ea"
          }
        },
        "4fd4aa00787645e29e442b477953770d": {
          "model_module": "@jupyter-widgets/controls",
          "model_name": "HTMLModel",
          "model_module_version": "1.5.0",
          "state": {
            "_dom_classes": [],
            "_model_module": "@jupyter-widgets/controls",
            "_model_module_version": "1.5.0",
            "_model_name": "HTMLModel",
            "_view_count": null,
            "_view_module": "@jupyter-widgets/controls",
            "_view_module_version": "1.5.0",
            "_view_name": "HTMLView",
            "description": "",
            "description_tooltip": null,
            "layout": "IPY_MODEL_a21e4b9aeeb74cebb1053798767bfe30",
            "placeholder": "​",
            "style": "IPY_MODEL_bcdd8943e3fc45cc84bae2a6980b1f3b",
            "value": "tokenizer_config.json: 100%"
          }
        },
        "3ffb13aabe2a4ca791022121264e5959": {
          "model_module": "@jupyter-widgets/controls",
          "model_name": "FloatProgressModel",
          "model_module_version": "1.5.0",
          "state": {
            "_dom_classes": [],
            "_model_module": "@jupyter-widgets/controls",
            "_model_module_version": "1.5.0",
            "_model_name": "FloatProgressModel",
            "_view_count": null,
            "_view_module": "@jupyter-widgets/controls",
            "_view_module_version": "1.5.0",
            "_view_name": "ProgressView",
            "bar_style": "success",
            "description": "",
            "description_tooltip": null,
            "layout": "IPY_MODEL_897a07799c3143d4b76c1a4225a47393",
            "max": 1070,
            "min": 0,
            "orientation": "horizontal",
            "style": "IPY_MODEL_20ff5af3b86f4bd597840253a541083a",
            "value": 1070
          }
        },
        "521b5bd161724d72a3e86fbcc4b27479": {
          "model_module": "@jupyter-widgets/controls",
          "model_name": "HTMLModel",
          "model_module_version": "1.5.0",
          "state": {
            "_dom_classes": [],
            "_model_module": "@jupyter-widgets/controls",
            "_model_module_version": "1.5.0",
            "_model_name": "HTMLModel",
            "_view_count": null,
            "_view_module": "@jupyter-widgets/controls",
            "_view_module_version": "1.5.0",
            "_view_name": "HTMLView",
            "description": "",
            "description_tooltip": null,
            "layout": "IPY_MODEL_ca69086303354c6789426e431cab4b2d",
            "placeholder": "​",
            "style": "IPY_MODEL_99f4ffda8e294064b74804bf78e9e166",
            "value": " 1.07k/1.07k [00:00&lt;00:00, 55.4kB/s]"
          }
        },
        "1092ab7fb15448a1be46c83e0978f8ea": {
          "model_module": "@jupyter-widgets/base",
          "model_name": "LayoutModel",
          "model_module_version": "1.2.0",
          "state": {
            "_model_module": "@jupyter-widgets/base",
            "_model_module_version": "1.2.0",
            "_model_name": "LayoutModel",
            "_view_count": null,
            "_view_module": "@jupyter-widgets/base",
            "_view_module_version": "1.2.0",
            "_view_name": "LayoutView",
            "align_content": null,
            "align_items": null,
            "align_self": null,
            "border": null,
            "bottom": null,
            "display": null,
            "flex": null,
            "flex_flow": null,
            "grid_area": null,
            "grid_auto_columns": null,
            "grid_auto_flow": null,
            "grid_auto_rows": null,
            "grid_column": null,
            "grid_gap": null,
            "grid_row": null,
            "grid_template_areas": null,
            "grid_template_columns": null,
            "grid_template_rows": null,
            "height": null,
            "justify_content": null,
            "justify_items": null,
            "left": null,
            "margin": null,
            "max_height": null,
            "max_width": null,
            "min_height": null,
            "min_width": null,
            "object_fit": null,
            "object_position": null,
            "order": null,
            "overflow": null,
            "overflow_x": null,
            "overflow_y": null,
            "padding": null,
            "right": null,
            "top": null,
            "visibility": null,
            "width": null
          }
        },
        "a21e4b9aeeb74cebb1053798767bfe30": {
          "model_module": "@jupyter-widgets/base",
          "model_name": "LayoutModel",
          "model_module_version": "1.2.0",
          "state": {
            "_model_module": "@jupyter-widgets/base",
            "_model_module_version": "1.2.0",
            "_model_name": "LayoutModel",
            "_view_count": null,
            "_view_module": "@jupyter-widgets/base",
            "_view_module_version": "1.2.0",
            "_view_name": "LayoutView",
            "align_content": null,
            "align_items": null,
            "align_self": null,
            "border": null,
            "bottom": null,
            "display": null,
            "flex": null,
            "flex_flow": null,
            "grid_area": null,
            "grid_auto_columns": null,
            "grid_auto_flow": null,
            "grid_auto_rows": null,
            "grid_column": null,
            "grid_gap": null,
            "grid_row": null,
            "grid_template_areas": null,
            "grid_template_columns": null,
            "grid_template_rows": null,
            "height": null,
            "justify_content": null,
            "justify_items": null,
            "left": null,
            "margin": null,
            "max_height": null,
            "max_width": null,
            "min_height": null,
            "min_width": null,
            "object_fit": null,
            "object_position": null,
            "order": null,
            "overflow": null,
            "overflow_x": null,
            "overflow_y": null,
            "padding": null,
            "right": null,
            "top": null,
            "visibility": null,
            "width": null
          }
        },
        "bcdd8943e3fc45cc84bae2a6980b1f3b": {
          "model_module": "@jupyter-widgets/controls",
          "model_name": "DescriptionStyleModel",
          "model_module_version": "1.5.0",
          "state": {
            "_model_module": "@jupyter-widgets/controls",
            "_model_module_version": "1.5.0",
            "_model_name": "DescriptionStyleModel",
            "_view_count": null,
            "_view_module": "@jupyter-widgets/base",
            "_view_module_version": "1.2.0",
            "_view_name": "StyleView",
            "description_width": ""
          }
        },
        "897a07799c3143d4b76c1a4225a47393": {
          "model_module": "@jupyter-widgets/base",
          "model_name": "LayoutModel",
          "model_module_version": "1.2.0",
          "state": {
            "_model_module": "@jupyter-widgets/base",
            "_model_module_version": "1.2.0",
            "_model_name": "LayoutModel",
            "_view_count": null,
            "_view_module": "@jupyter-widgets/base",
            "_view_module_version": "1.2.0",
            "_view_name": "LayoutView",
            "align_content": null,
            "align_items": null,
            "align_self": null,
            "border": null,
            "bottom": null,
            "display": null,
            "flex": null,
            "flex_flow": null,
            "grid_area": null,
            "grid_auto_columns": null,
            "grid_auto_flow": null,
            "grid_auto_rows": null,
            "grid_column": null,
            "grid_gap": null,
            "grid_row": null,
            "grid_template_areas": null,
            "grid_template_columns": null,
            "grid_template_rows": null,
            "height": null,
            "justify_content": null,
            "justify_items": null,
            "left": null,
            "margin": null,
            "max_height": null,
            "max_width": null,
            "min_height": null,
            "min_width": null,
            "object_fit": null,
            "object_position": null,
            "order": null,
            "overflow": null,
            "overflow_x": null,
            "overflow_y": null,
            "padding": null,
            "right": null,
            "top": null,
            "visibility": null,
            "width": null
          }
        },
        "20ff5af3b86f4bd597840253a541083a": {
          "model_module": "@jupyter-widgets/controls",
          "model_name": "ProgressStyleModel",
          "model_module_version": "1.5.0",
          "state": {
            "_model_module": "@jupyter-widgets/controls",
            "_model_module_version": "1.5.0",
            "_model_name": "ProgressStyleModel",
            "_view_count": null,
            "_view_module": "@jupyter-widgets/base",
            "_view_module_version": "1.2.0",
            "_view_name": "StyleView",
            "bar_color": null,
            "description_width": ""
          }
        },
        "ca69086303354c6789426e431cab4b2d": {
          "model_module": "@jupyter-widgets/base",
          "model_name": "LayoutModel",
          "model_module_version": "1.2.0",
          "state": {
            "_model_module": "@jupyter-widgets/base",
            "_model_module_version": "1.2.0",
            "_model_name": "LayoutModel",
            "_view_count": null,
            "_view_module": "@jupyter-widgets/base",
            "_view_module_version": "1.2.0",
            "_view_name": "LayoutView",
            "align_content": null,
            "align_items": null,
            "align_self": null,
            "border": null,
            "bottom": null,
            "display": null,
            "flex": null,
            "flex_flow": null,
            "grid_area": null,
            "grid_auto_columns": null,
            "grid_auto_flow": null,
            "grid_auto_rows": null,
            "grid_column": null,
            "grid_gap": null,
            "grid_row": null,
            "grid_template_areas": null,
            "grid_template_columns": null,
            "grid_template_rows": null,
            "height": null,
            "justify_content": null,
            "justify_items": null,
            "left": null,
            "margin": null,
            "max_height": null,
            "max_width": null,
            "min_height": null,
            "min_width": null,
            "object_fit": null,
            "object_position": null,
            "order": null,
            "overflow": null,
            "overflow_x": null,
            "overflow_y": null,
            "padding": null,
            "right": null,
            "top": null,
            "visibility": null,
            "width": null
          }
        },
        "99f4ffda8e294064b74804bf78e9e166": {
          "model_module": "@jupyter-widgets/controls",
          "model_name": "DescriptionStyleModel",
          "model_module_version": "1.5.0",
          "state": {
            "_model_module": "@jupyter-widgets/controls",
            "_model_module_version": "1.5.0",
            "_model_name": "DescriptionStyleModel",
            "_view_count": null,
            "_view_module": "@jupyter-widgets/base",
            "_view_module_version": "1.2.0",
            "_view_name": "StyleView",
            "description_width": ""
          }
        },
        "6654640dcd644aae84cf6d08db8452d0": {
          "model_module": "@jupyter-widgets/controls",
          "model_name": "HBoxModel",
          "model_module_version": "1.5.0",
          "state": {
            "_dom_classes": [],
            "_model_module": "@jupyter-widgets/controls",
            "_model_module_version": "1.5.0",
            "_model_name": "HBoxModel",
            "_view_count": null,
            "_view_module": "@jupyter-widgets/controls",
            "_view_module_version": "1.5.0",
            "_view_name": "HBoxView",
            "box_style": "",
            "children": [
              "IPY_MODEL_a0cfe6b0ccfe4fa68fc0e70e05d41fd8",
              "IPY_MODEL_c61e73cc33de49b4804e03c01c0fd1ed",
              "IPY_MODEL_6c2768852a2145a7a5f62bb1ec7778f9"
            ],
            "layout": "IPY_MODEL_4acc04b90c1844a59336dc2c2b161a7e"
          }
        },
        "a0cfe6b0ccfe4fa68fc0e70e05d41fd8": {
          "model_module": "@jupyter-widgets/controls",
          "model_name": "HTMLModel",
          "model_module_version": "1.5.0",
          "state": {
            "_dom_classes": [],
            "_model_module": "@jupyter-widgets/controls",
            "_model_module_version": "1.5.0",
            "_model_name": "HTMLModel",
            "_view_count": null,
            "_view_module": "@jupyter-widgets/controls",
            "_view_module_version": "1.5.0",
            "_view_name": "HTMLView",
            "description": "",
            "description_tooltip": null,
            "layout": "IPY_MODEL_8c3941d36bc546a0946dab7440207dc5",
            "placeholder": "​",
            "style": "IPY_MODEL_0a7dc65239164e4f9d1d3b87d948c124",
            "value": "vocab.json: 100%"
          }
        },
        "c61e73cc33de49b4804e03c01c0fd1ed": {
          "model_module": "@jupyter-widgets/controls",
          "model_name": "FloatProgressModel",
          "model_module_version": "1.5.0",
          "state": {
            "_dom_classes": [],
            "_model_module": "@jupyter-widgets/controls",
            "_model_module_version": "1.5.0",
            "_model_name": "FloatProgressModel",
            "_view_count": null,
            "_view_module": "@jupyter-widgets/controls",
            "_view_module_version": "1.5.0",
            "_view_name": "ProgressView",
            "bar_style": "success",
            "description": "",
            "description_tooltip": null,
            "layout": "IPY_MODEL_85974d7530cf4a78bd201ecb2fdbb1ad",
            "max": 898822,
            "min": 0,
            "orientation": "horizontal",
            "style": "IPY_MODEL_d4b6448d64dd4771bd3c02a34eeacd12",
            "value": 898822
          }
        },
        "6c2768852a2145a7a5f62bb1ec7778f9": {
          "model_module": "@jupyter-widgets/controls",
          "model_name": "HTMLModel",
          "model_module_version": "1.5.0",
          "state": {
            "_dom_classes": [],
            "_model_module": "@jupyter-widgets/controls",
            "_model_module_version": "1.5.0",
            "_model_name": "HTMLModel",
            "_view_count": null,
            "_view_module": "@jupyter-widgets/controls",
            "_view_module_version": "1.5.0",
            "_view_name": "HTMLView",
            "description": "",
            "description_tooltip": null,
            "layout": "IPY_MODEL_dba93e8d063a471fb65488c401c3b06b",
            "placeholder": "​",
            "style": "IPY_MODEL_27a2351da7f14758a601decc0e81c0c4",
            "value": " 899k/899k [00:00&lt;00:00, 3.95MB/s]"
          }
        },
        "4acc04b90c1844a59336dc2c2b161a7e": {
          "model_module": "@jupyter-widgets/base",
          "model_name": "LayoutModel",
          "model_module_version": "1.2.0",
          "state": {
            "_model_module": "@jupyter-widgets/base",
            "_model_module_version": "1.2.0",
            "_model_name": "LayoutModel",
            "_view_count": null,
            "_view_module": "@jupyter-widgets/base",
            "_view_module_version": "1.2.0",
            "_view_name": "LayoutView",
            "align_content": null,
            "align_items": null,
            "align_self": null,
            "border": null,
            "bottom": null,
            "display": null,
            "flex": null,
            "flex_flow": null,
            "grid_area": null,
            "grid_auto_columns": null,
            "grid_auto_flow": null,
            "grid_auto_rows": null,
            "grid_column": null,
            "grid_gap": null,
            "grid_row": null,
            "grid_template_areas": null,
            "grid_template_columns": null,
            "grid_template_rows": null,
            "height": null,
            "justify_content": null,
            "justify_items": null,
            "left": null,
            "margin": null,
            "max_height": null,
            "max_width": null,
            "min_height": null,
            "min_width": null,
            "object_fit": null,
            "object_position": null,
            "order": null,
            "overflow": null,
            "overflow_x": null,
            "overflow_y": null,
            "padding": null,
            "right": null,
            "top": null,
            "visibility": null,
            "width": null
          }
        },
        "8c3941d36bc546a0946dab7440207dc5": {
          "model_module": "@jupyter-widgets/base",
          "model_name": "LayoutModel",
          "model_module_version": "1.2.0",
          "state": {
            "_model_module": "@jupyter-widgets/base",
            "_model_module_version": "1.2.0",
            "_model_name": "LayoutModel",
            "_view_count": null,
            "_view_module": "@jupyter-widgets/base",
            "_view_module_version": "1.2.0",
            "_view_name": "LayoutView",
            "align_content": null,
            "align_items": null,
            "align_self": null,
            "border": null,
            "bottom": null,
            "display": null,
            "flex": null,
            "flex_flow": null,
            "grid_area": null,
            "grid_auto_columns": null,
            "grid_auto_flow": null,
            "grid_auto_rows": null,
            "grid_column": null,
            "grid_gap": null,
            "grid_row": null,
            "grid_template_areas": null,
            "grid_template_columns": null,
            "grid_template_rows": null,
            "height": null,
            "justify_content": null,
            "justify_items": null,
            "left": null,
            "margin": null,
            "max_height": null,
            "max_width": null,
            "min_height": null,
            "min_width": null,
            "object_fit": null,
            "object_position": null,
            "order": null,
            "overflow": null,
            "overflow_x": null,
            "overflow_y": null,
            "padding": null,
            "right": null,
            "top": null,
            "visibility": null,
            "width": null
          }
        },
        "0a7dc65239164e4f9d1d3b87d948c124": {
          "model_module": "@jupyter-widgets/controls",
          "model_name": "DescriptionStyleModel",
          "model_module_version": "1.5.0",
          "state": {
            "_model_module": "@jupyter-widgets/controls",
            "_model_module_version": "1.5.0",
            "_model_name": "DescriptionStyleModel",
            "_view_count": null,
            "_view_module": "@jupyter-widgets/base",
            "_view_module_version": "1.2.0",
            "_view_name": "StyleView",
            "description_width": ""
          }
        },
        "85974d7530cf4a78bd201ecb2fdbb1ad": {
          "model_module": "@jupyter-widgets/base",
          "model_name": "LayoutModel",
          "model_module_version": "1.2.0",
          "state": {
            "_model_module": "@jupyter-widgets/base",
            "_model_module_version": "1.2.0",
            "_model_name": "LayoutModel",
            "_view_count": null,
            "_view_module": "@jupyter-widgets/base",
            "_view_module_version": "1.2.0",
            "_view_name": "LayoutView",
            "align_content": null,
            "align_items": null,
            "align_self": null,
            "border": null,
            "bottom": null,
            "display": null,
            "flex": null,
            "flex_flow": null,
            "grid_area": null,
            "grid_auto_columns": null,
            "grid_auto_flow": null,
            "grid_auto_rows": null,
            "grid_column": null,
            "grid_gap": null,
            "grid_row": null,
            "grid_template_areas": null,
            "grid_template_columns": null,
            "grid_template_rows": null,
            "height": null,
            "justify_content": null,
            "justify_items": null,
            "left": null,
            "margin": null,
            "max_height": null,
            "max_width": null,
            "min_height": null,
            "min_width": null,
            "object_fit": null,
            "object_position": null,
            "order": null,
            "overflow": null,
            "overflow_x": null,
            "overflow_y": null,
            "padding": null,
            "right": null,
            "top": null,
            "visibility": null,
            "width": null
          }
        },
        "d4b6448d64dd4771bd3c02a34eeacd12": {
          "model_module": "@jupyter-widgets/controls",
          "model_name": "ProgressStyleModel",
          "model_module_version": "1.5.0",
          "state": {
            "_model_module": "@jupyter-widgets/controls",
            "_model_module_version": "1.5.0",
            "_model_name": "ProgressStyleModel",
            "_view_count": null,
            "_view_module": "@jupyter-widgets/base",
            "_view_module_version": "1.2.0",
            "_view_name": "StyleView",
            "bar_color": null,
            "description_width": ""
          }
        },
        "dba93e8d063a471fb65488c401c3b06b": {
          "model_module": "@jupyter-widgets/base",
          "model_name": "LayoutModel",
          "model_module_version": "1.2.0",
          "state": {
            "_model_module": "@jupyter-widgets/base",
            "_model_module_version": "1.2.0",
            "_model_name": "LayoutModel",
            "_view_count": null,
            "_view_module": "@jupyter-widgets/base",
            "_view_module_version": "1.2.0",
            "_view_name": "LayoutView",
            "align_content": null,
            "align_items": null,
            "align_self": null,
            "border": null,
            "bottom": null,
            "display": null,
            "flex": null,
            "flex_flow": null,
            "grid_area": null,
            "grid_auto_columns": null,
            "grid_auto_flow": null,
            "grid_auto_rows": null,
            "grid_column": null,
            "grid_gap": null,
            "grid_row": null,
            "grid_template_areas": null,
            "grid_template_columns": null,
            "grid_template_rows": null,
            "height": null,
            "justify_content": null,
            "justify_items": null,
            "left": null,
            "margin": null,
            "max_height": null,
            "max_width": null,
            "min_height": null,
            "min_width": null,
            "object_fit": null,
            "object_position": null,
            "order": null,
            "overflow": null,
            "overflow_x": null,
            "overflow_y": null,
            "padding": null,
            "right": null,
            "top": null,
            "visibility": null,
            "width": null
          }
        },
        "27a2351da7f14758a601decc0e81c0c4": {
          "model_module": "@jupyter-widgets/controls",
          "model_name": "DescriptionStyleModel",
          "model_module_version": "1.5.0",
          "state": {
            "_model_module": "@jupyter-widgets/controls",
            "_model_module_version": "1.5.0",
            "_model_name": "DescriptionStyleModel",
            "_view_count": null,
            "_view_module": "@jupyter-widgets/base",
            "_view_module_version": "1.2.0",
            "_view_name": "StyleView",
            "description_width": ""
          }
        },
        "94be5cbbb0db446f817fb560008e733e": {
          "model_module": "@jupyter-widgets/controls",
          "model_name": "HBoxModel",
          "model_module_version": "1.5.0",
          "state": {
            "_dom_classes": [],
            "_model_module": "@jupyter-widgets/controls",
            "_model_module_version": "1.5.0",
            "_model_name": "HBoxModel",
            "_view_count": null,
            "_view_module": "@jupyter-widgets/controls",
            "_view_module_version": "1.5.0",
            "_view_name": "HBoxView",
            "box_style": "",
            "children": [
              "IPY_MODEL_4054d389ed0a4cde81620d384bb7faa9",
              "IPY_MODEL_2978ca418ed341fe94fe1249bfb626d4",
              "IPY_MODEL_fc4c390ac6af47c88bb3ba12135d89e0"
            ],
            "layout": "IPY_MODEL_186e1c554a624c658fa96ec4a438dedc"
          }
        },
        "4054d389ed0a4cde81620d384bb7faa9": {
          "model_module": "@jupyter-widgets/controls",
          "model_name": "HTMLModel",
          "model_module_version": "1.5.0",
          "state": {
            "_dom_classes": [],
            "_model_module": "@jupyter-widgets/controls",
            "_model_module_version": "1.5.0",
            "_model_name": "HTMLModel",
            "_view_count": null,
            "_view_module": "@jupyter-widgets/controls",
            "_view_module_version": "1.5.0",
            "_view_name": "HTMLView",
            "description": "",
            "description_tooltip": null,
            "layout": "IPY_MODEL_209897f1346b42348c143b68570f6b6f",
            "placeholder": "​",
            "style": "IPY_MODEL_6e990eff40e14a6e8b39d6780cf10e56",
            "value": "merges.txt: 100%"
          }
        },
        "2978ca418ed341fe94fe1249bfb626d4": {
          "model_module": "@jupyter-widgets/controls",
          "model_name": "FloatProgressModel",
          "model_module_version": "1.5.0",
          "state": {
            "_dom_classes": [],
            "_model_module": "@jupyter-widgets/controls",
            "_model_module_version": "1.5.0",
            "_model_name": "FloatProgressModel",
            "_view_count": null,
            "_view_module": "@jupyter-widgets/controls",
            "_view_module_version": "1.5.0",
            "_view_name": "ProgressView",
            "bar_style": "success",
            "description": "",
            "description_tooltip": null,
            "layout": "IPY_MODEL_e321d0a9457f4e89b33bba56860a0fd3",
            "max": 456318,
            "min": 0,
            "orientation": "horizontal",
            "style": "IPY_MODEL_98d2afb12746416e90df9f1d9835fbc1",
            "value": 456318
          }
        },
        "fc4c390ac6af47c88bb3ba12135d89e0": {
          "model_module": "@jupyter-widgets/controls",
          "model_name": "HTMLModel",
          "model_module_version": "1.5.0",
          "state": {
            "_dom_classes": [],
            "_model_module": "@jupyter-widgets/controls",
            "_model_module_version": "1.5.0",
            "_model_name": "HTMLModel",
            "_view_count": null,
            "_view_module": "@jupyter-widgets/controls",
            "_view_module_version": "1.5.0",
            "_view_name": "HTMLView",
            "description": "",
            "description_tooltip": null,
            "layout": "IPY_MODEL_68766aa74f24474ea80b99af32404fd3",
            "placeholder": "​",
            "style": "IPY_MODEL_65ec46ef510f4836ae52adff92ef351f",
            "value": " 456k/456k [00:00&lt;00:00, 2.70MB/s]"
          }
        },
        "186e1c554a624c658fa96ec4a438dedc": {
          "model_module": "@jupyter-widgets/base",
          "model_name": "LayoutModel",
          "model_module_version": "1.2.0",
          "state": {
            "_model_module": "@jupyter-widgets/base",
            "_model_module_version": "1.2.0",
            "_model_name": "LayoutModel",
            "_view_count": null,
            "_view_module": "@jupyter-widgets/base",
            "_view_module_version": "1.2.0",
            "_view_name": "LayoutView",
            "align_content": null,
            "align_items": null,
            "align_self": null,
            "border": null,
            "bottom": null,
            "display": null,
            "flex": null,
            "flex_flow": null,
            "grid_area": null,
            "grid_auto_columns": null,
            "grid_auto_flow": null,
            "grid_auto_rows": null,
            "grid_column": null,
            "grid_gap": null,
            "grid_row": null,
            "grid_template_areas": null,
            "grid_template_columns": null,
            "grid_template_rows": null,
            "height": null,
            "justify_content": null,
            "justify_items": null,
            "left": null,
            "margin": null,
            "max_height": null,
            "max_width": null,
            "min_height": null,
            "min_width": null,
            "object_fit": null,
            "object_position": null,
            "order": null,
            "overflow": null,
            "overflow_x": null,
            "overflow_y": null,
            "padding": null,
            "right": null,
            "top": null,
            "visibility": null,
            "width": null
          }
        },
        "209897f1346b42348c143b68570f6b6f": {
          "model_module": "@jupyter-widgets/base",
          "model_name": "LayoutModel",
          "model_module_version": "1.2.0",
          "state": {
            "_model_module": "@jupyter-widgets/base",
            "_model_module_version": "1.2.0",
            "_model_name": "LayoutModel",
            "_view_count": null,
            "_view_module": "@jupyter-widgets/base",
            "_view_module_version": "1.2.0",
            "_view_name": "LayoutView",
            "align_content": null,
            "align_items": null,
            "align_self": null,
            "border": null,
            "bottom": null,
            "display": null,
            "flex": null,
            "flex_flow": null,
            "grid_area": null,
            "grid_auto_columns": null,
            "grid_auto_flow": null,
            "grid_auto_rows": null,
            "grid_column": null,
            "grid_gap": null,
            "grid_row": null,
            "grid_template_areas": null,
            "grid_template_columns": null,
            "grid_template_rows": null,
            "height": null,
            "justify_content": null,
            "justify_items": null,
            "left": null,
            "margin": null,
            "max_height": null,
            "max_width": null,
            "min_height": null,
            "min_width": null,
            "object_fit": null,
            "object_position": null,
            "order": null,
            "overflow": null,
            "overflow_x": null,
            "overflow_y": null,
            "padding": null,
            "right": null,
            "top": null,
            "visibility": null,
            "width": null
          }
        },
        "6e990eff40e14a6e8b39d6780cf10e56": {
          "model_module": "@jupyter-widgets/controls",
          "model_name": "DescriptionStyleModel",
          "model_module_version": "1.5.0",
          "state": {
            "_model_module": "@jupyter-widgets/controls",
            "_model_module_version": "1.5.0",
            "_model_name": "DescriptionStyleModel",
            "_view_count": null,
            "_view_module": "@jupyter-widgets/base",
            "_view_module_version": "1.2.0",
            "_view_name": "StyleView",
            "description_width": ""
          }
        },
        "e321d0a9457f4e89b33bba56860a0fd3": {
          "model_module": "@jupyter-widgets/base",
          "model_name": "LayoutModel",
          "model_module_version": "1.2.0",
          "state": {
            "_model_module": "@jupyter-widgets/base",
            "_model_module_version": "1.2.0",
            "_model_name": "LayoutModel",
            "_view_count": null,
            "_view_module": "@jupyter-widgets/base",
            "_view_module_version": "1.2.0",
            "_view_name": "LayoutView",
            "align_content": null,
            "align_items": null,
            "align_self": null,
            "border": null,
            "bottom": null,
            "display": null,
            "flex": null,
            "flex_flow": null,
            "grid_area": null,
            "grid_auto_columns": null,
            "grid_auto_flow": null,
            "grid_auto_rows": null,
            "grid_column": null,
            "grid_gap": null,
            "grid_row": null,
            "grid_template_areas": null,
            "grid_template_columns": null,
            "grid_template_rows": null,
            "height": null,
            "justify_content": null,
            "justify_items": null,
            "left": null,
            "margin": null,
            "max_height": null,
            "max_width": null,
            "min_height": null,
            "min_width": null,
            "object_fit": null,
            "object_position": null,
            "order": null,
            "overflow": null,
            "overflow_x": null,
            "overflow_y": null,
            "padding": null,
            "right": null,
            "top": null,
            "visibility": null,
            "width": null
          }
        },
        "98d2afb12746416e90df9f1d9835fbc1": {
          "model_module": "@jupyter-widgets/controls",
          "model_name": "ProgressStyleModel",
          "model_module_version": "1.5.0",
          "state": {
            "_model_module": "@jupyter-widgets/controls",
            "_model_module_version": "1.5.0",
            "_model_name": "ProgressStyleModel",
            "_view_count": null,
            "_view_module": "@jupyter-widgets/base",
            "_view_module_version": "1.2.0",
            "_view_name": "StyleView",
            "bar_color": null,
            "description_width": ""
          }
        },
        "68766aa74f24474ea80b99af32404fd3": {
          "model_module": "@jupyter-widgets/base",
          "model_name": "LayoutModel",
          "model_module_version": "1.2.0",
          "state": {
            "_model_module": "@jupyter-widgets/base",
            "_model_module_version": "1.2.0",
            "_model_name": "LayoutModel",
            "_view_count": null,
            "_view_module": "@jupyter-widgets/base",
            "_view_module_version": "1.2.0",
            "_view_name": "LayoutView",
            "align_content": null,
            "align_items": null,
            "align_self": null,
            "border": null,
            "bottom": null,
            "display": null,
            "flex": null,
            "flex_flow": null,
            "grid_area": null,
            "grid_auto_columns": null,
            "grid_auto_flow": null,
            "grid_auto_rows": null,
            "grid_column": null,
            "grid_gap": null,
            "grid_row": null,
            "grid_template_areas": null,
            "grid_template_columns": null,
            "grid_template_rows": null,
            "height": null,
            "justify_content": null,
            "justify_items": null,
            "left": null,
            "margin": null,
            "max_height": null,
            "max_width": null,
            "min_height": null,
            "min_width": null,
            "object_fit": null,
            "object_position": null,
            "order": null,
            "overflow": null,
            "overflow_x": null,
            "overflow_y": null,
            "padding": null,
            "right": null,
            "top": null,
            "visibility": null,
            "width": null
          }
        },
        "65ec46ef510f4836ae52adff92ef351f": {
          "model_module": "@jupyter-widgets/controls",
          "model_name": "DescriptionStyleModel",
          "model_module_version": "1.5.0",
          "state": {
            "_model_module": "@jupyter-widgets/controls",
            "_model_module_version": "1.5.0",
            "_model_name": "DescriptionStyleModel",
            "_view_count": null,
            "_view_module": "@jupyter-widgets/base",
            "_view_module_version": "1.2.0",
            "_view_name": "StyleView",
            "description_width": ""
          }
        },
        "fc94f5a9a9bd4653bae7f1fc41722a16": {
          "model_module": "@jupyter-widgets/controls",
          "model_name": "HBoxModel",
          "model_module_version": "1.5.0",
          "state": {
            "_dom_classes": [],
            "_model_module": "@jupyter-widgets/controls",
            "_model_module_version": "1.5.0",
            "_model_name": "HBoxModel",
            "_view_count": null,
            "_view_module": "@jupyter-widgets/controls",
            "_view_module_version": "1.5.0",
            "_view_name": "HBoxView",
            "box_style": "",
            "children": [
              "IPY_MODEL_e073c66eee3e4d378cea7bef068eb090",
              "IPY_MODEL_2af3347a4d644379a0dbc8298c1d6b72",
              "IPY_MODEL_edf6cd0c3fac4ac4ae3df0f2f509f168"
            ],
            "layout": "IPY_MODEL_0d0068e9113a41638ffb6a7c48310d50"
          }
        },
        "e073c66eee3e4d378cea7bef068eb090": {
          "model_module": "@jupyter-widgets/controls",
          "model_name": "HTMLModel",
          "model_module_version": "1.5.0",
          "state": {
            "_dom_classes": [],
            "_model_module": "@jupyter-widgets/controls",
            "_model_module_version": "1.5.0",
            "_model_name": "HTMLModel",
            "_view_count": null,
            "_view_module": "@jupyter-widgets/controls",
            "_view_module_version": "1.5.0",
            "_view_name": "HTMLView",
            "description": "",
            "description_tooltip": null,
            "layout": "IPY_MODEL_8961b9d38d2a4e6fb1dc709d716cb167",
            "placeholder": "​",
            "style": "IPY_MODEL_c57ca00fb8244d079bb8170120a6a4fd",
            "value": "special_tokens_map.json: 100%"
          }
        },
        "2af3347a4d644379a0dbc8298c1d6b72": {
          "model_module": "@jupyter-widgets/controls",
          "model_name": "FloatProgressModel",
          "model_module_version": "1.5.0",
          "state": {
            "_dom_classes": [],
            "_model_module": "@jupyter-widgets/controls",
            "_model_module_version": "1.5.0",
            "_model_name": "FloatProgressModel",
            "_view_count": null,
            "_view_module": "@jupyter-widgets/controls",
            "_view_module_version": "1.5.0",
            "_view_name": "ProgressView",
            "bar_style": "success",
            "description": "",
            "description_tooltip": null,
            "layout": "IPY_MODEL_398fbe4e5a6b4f139724355808b86bd4",
            "max": 772,
            "min": 0,
            "orientation": "horizontal",
            "style": "IPY_MODEL_acb166786da547ec94f1b7cb4123a616",
            "value": 772
          }
        },
        "edf6cd0c3fac4ac4ae3df0f2f509f168": {
          "model_module": "@jupyter-widgets/controls",
          "model_name": "HTMLModel",
          "model_module_version": "1.5.0",
          "state": {
            "_dom_classes": [],
            "_model_module": "@jupyter-widgets/controls",
            "_model_module_version": "1.5.0",
            "_model_name": "HTMLModel",
            "_view_count": null,
            "_view_module": "@jupyter-widgets/controls",
            "_view_module_version": "1.5.0",
            "_view_name": "HTMLView",
            "description": "",
            "description_tooltip": null,
            "layout": "IPY_MODEL_fe8b6aa745e54667816e26e385b3fce4",
            "placeholder": "​",
            "style": "IPY_MODEL_e80295d99b0c42d1ba9a4a7365304a46",
            "value": " 772/772 [00:00&lt;00:00, 55.3kB/s]"
          }
        },
        "0d0068e9113a41638ffb6a7c48310d50": {
          "model_module": "@jupyter-widgets/base",
          "model_name": "LayoutModel",
          "model_module_version": "1.2.0",
          "state": {
            "_model_module": "@jupyter-widgets/base",
            "_model_module_version": "1.2.0",
            "_model_name": "LayoutModel",
            "_view_count": null,
            "_view_module": "@jupyter-widgets/base",
            "_view_module_version": "1.2.0",
            "_view_name": "LayoutView",
            "align_content": null,
            "align_items": null,
            "align_self": null,
            "border": null,
            "bottom": null,
            "display": null,
            "flex": null,
            "flex_flow": null,
            "grid_area": null,
            "grid_auto_columns": null,
            "grid_auto_flow": null,
            "grid_auto_rows": null,
            "grid_column": null,
            "grid_gap": null,
            "grid_row": null,
            "grid_template_areas": null,
            "grid_template_columns": null,
            "grid_template_rows": null,
            "height": null,
            "justify_content": null,
            "justify_items": null,
            "left": null,
            "margin": null,
            "max_height": null,
            "max_width": null,
            "min_height": null,
            "min_width": null,
            "object_fit": null,
            "object_position": null,
            "order": null,
            "overflow": null,
            "overflow_x": null,
            "overflow_y": null,
            "padding": null,
            "right": null,
            "top": null,
            "visibility": null,
            "width": null
          }
        },
        "8961b9d38d2a4e6fb1dc709d716cb167": {
          "model_module": "@jupyter-widgets/base",
          "model_name": "LayoutModel",
          "model_module_version": "1.2.0",
          "state": {
            "_model_module": "@jupyter-widgets/base",
            "_model_module_version": "1.2.0",
            "_model_name": "LayoutModel",
            "_view_count": null,
            "_view_module": "@jupyter-widgets/base",
            "_view_module_version": "1.2.0",
            "_view_name": "LayoutView",
            "align_content": null,
            "align_items": null,
            "align_self": null,
            "border": null,
            "bottom": null,
            "display": null,
            "flex": null,
            "flex_flow": null,
            "grid_area": null,
            "grid_auto_columns": null,
            "grid_auto_flow": null,
            "grid_auto_rows": null,
            "grid_column": null,
            "grid_gap": null,
            "grid_row": null,
            "grid_template_areas": null,
            "grid_template_columns": null,
            "grid_template_rows": null,
            "height": null,
            "justify_content": null,
            "justify_items": null,
            "left": null,
            "margin": null,
            "max_height": null,
            "max_width": null,
            "min_height": null,
            "min_width": null,
            "object_fit": null,
            "object_position": null,
            "order": null,
            "overflow": null,
            "overflow_x": null,
            "overflow_y": null,
            "padding": null,
            "right": null,
            "top": null,
            "visibility": null,
            "width": null
          }
        },
        "c57ca00fb8244d079bb8170120a6a4fd": {
          "model_module": "@jupyter-widgets/controls",
          "model_name": "DescriptionStyleModel",
          "model_module_version": "1.5.0",
          "state": {
            "_model_module": "@jupyter-widgets/controls",
            "_model_module_version": "1.5.0",
            "_model_name": "DescriptionStyleModel",
            "_view_count": null,
            "_view_module": "@jupyter-widgets/base",
            "_view_module_version": "1.2.0",
            "_view_name": "StyleView",
            "description_width": ""
          }
        },
        "398fbe4e5a6b4f139724355808b86bd4": {
          "model_module": "@jupyter-widgets/base",
          "model_name": "LayoutModel",
          "model_module_version": "1.2.0",
          "state": {
            "_model_module": "@jupyter-widgets/base",
            "_model_module_version": "1.2.0",
            "_model_name": "LayoutModel",
            "_view_count": null,
            "_view_module": "@jupyter-widgets/base",
            "_view_module_version": "1.2.0",
            "_view_name": "LayoutView",
            "align_content": null,
            "align_items": null,
            "align_self": null,
            "border": null,
            "bottom": null,
            "display": null,
            "flex": null,
            "flex_flow": null,
            "grid_area": null,
            "grid_auto_columns": null,
            "grid_auto_flow": null,
            "grid_auto_rows": null,
            "grid_column": null,
            "grid_gap": null,
            "grid_row": null,
            "grid_template_areas": null,
            "grid_template_columns": null,
            "grid_template_rows": null,
            "height": null,
            "justify_content": null,
            "justify_items": null,
            "left": null,
            "margin": null,
            "max_height": null,
            "max_width": null,
            "min_height": null,
            "min_width": null,
            "object_fit": null,
            "object_position": null,
            "order": null,
            "overflow": null,
            "overflow_x": null,
            "overflow_y": null,
            "padding": null,
            "right": null,
            "top": null,
            "visibility": null,
            "width": null
          }
        },
        "acb166786da547ec94f1b7cb4123a616": {
          "model_module": "@jupyter-widgets/controls",
          "model_name": "ProgressStyleModel",
          "model_module_version": "1.5.0",
          "state": {
            "_model_module": "@jupyter-widgets/controls",
            "_model_module_version": "1.5.0",
            "_model_name": "ProgressStyleModel",
            "_view_count": null,
            "_view_module": "@jupyter-widgets/base",
            "_view_module_version": "1.2.0",
            "_view_name": "StyleView",
            "bar_color": null,
            "description_width": ""
          }
        },
        "fe8b6aa745e54667816e26e385b3fce4": {
          "model_module": "@jupyter-widgets/base",
          "model_name": "LayoutModel",
          "model_module_version": "1.2.0",
          "state": {
            "_model_module": "@jupyter-widgets/base",
            "_model_module_version": "1.2.0",
            "_model_name": "LayoutModel",
            "_view_count": null,
            "_view_module": "@jupyter-widgets/base",
            "_view_module_version": "1.2.0",
            "_view_name": "LayoutView",
            "align_content": null,
            "align_items": null,
            "align_self": null,
            "border": null,
            "bottom": null,
            "display": null,
            "flex": null,
            "flex_flow": null,
            "grid_area": null,
            "grid_auto_columns": null,
            "grid_auto_flow": null,
            "grid_auto_rows": null,
            "grid_column": null,
            "grid_gap": null,
            "grid_row": null,
            "grid_template_areas": null,
            "grid_template_columns": null,
            "grid_template_rows": null,
            "height": null,
            "justify_content": null,
            "justify_items": null,
            "left": null,
            "margin": null,
            "max_height": null,
            "max_width": null,
            "min_height": null,
            "min_width": null,
            "object_fit": null,
            "object_position": null,
            "order": null,
            "overflow": null,
            "overflow_x": null,
            "overflow_y": null,
            "padding": null,
            "right": null,
            "top": null,
            "visibility": null,
            "width": null
          }
        },
        "e80295d99b0c42d1ba9a4a7365304a46": {
          "model_module": "@jupyter-widgets/controls",
          "model_name": "DescriptionStyleModel",
          "model_module_version": "1.5.0",
          "state": {
            "_model_module": "@jupyter-widgets/controls",
            "_model_module_version": "1.5.0",
            "_model_name": "DescriptionStyleModel",
            "_view_count": null,
            "_view_module": "@jupyter-widgets/base",
            "_view_module_version": "1.2.0",
            "_view_name": "StyleView",
            "description_width": ""
          }
        }
      }
    }
  },
  "nbformat": 4,
  "nbformat_minor": 0
}